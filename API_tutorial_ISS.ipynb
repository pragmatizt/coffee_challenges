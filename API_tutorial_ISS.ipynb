{
  "nbformat": 4,
  "nbformat_minor": 0,
  "metadata": {
    "colab": {
      "name": "API_tutorial_ISS.ipynb",
      "provenance": [],
      "include_colab_link": true
    },
    "kernelspec": {
      "name": "python3",
      "display_name": "Python 3"
    }
  },
  "cells": [
    {
      "cell_type": "markdown",
      "metadata": {
        "id": "view-in-github",
        "colab_type": "text"
      },
      "source": [
        "<a href=\"https://colab.research.google.com/github/pragmatizt/coffee_challenges/blob/master/API_tutorial_ISS.ipynb\" target=\"_parent\"><img src=\"https://colab.research.google.com/assets/colab-badge.svg\" alt=\"Open In Colab\"/></a>"
      ]
    },
    {
      "cell_type": "markdown",
      "metadata": {
        "id": "JVX-TyQVkeny",
        "colab_type": "text"
      },
      "source": [
        "# Understanding API Basics\n",
        "\n",
        "Following along a tutorial to understand API's & JSON.\n",
        "\n",
        "Tutorial Source: [here](https://www.dataquest.io/blog/python-api-tutorial/)"
      ]
    },
    {
      "cell_type": "markdown",
      "metadata": {
        "id": "LfQAbfrPlMpS",
        "colab_type": "text"
      },
      "source": [
        "### Key definition terms:\n",
        "*   **API** - or application programming interface.  A set of functions and procedures allowing the creation of applications taht access the features or data of an operating system, application, or other service. \n",
        "*   **JSON** - or javascript object notation.  A lightweight data-interchange format.  It is easy for humans to read and write. It is easy for machines to parse and generate.\n",
        "*   **Endpoint** - An endpoint is one end of a communication channel.  When an API interacts with another system, the touchpoints of this communication are considered endpoints.  For APIs, an endpoint can include a URL of a server or service.  The place that APIs send requests and where the resource lives.\n",
        "*   List item\n",
        "\n",
        "\n",
        "\n"
      ]
    },
    {
      "cell_type": "code",
      "metadata": {
        "id": "JUcIdYvCkILf",
        "colab_type": "code",
        "colab": {}
      },
      "source": [
        "# requests is the most common library for making requests and working with APIs.\n",
        "# it's not part of the standard Python library, so usually we need to install.\n",
        "# Colab has it built-in.\n",
        "\n",
        "import requests"
      ],
      "execution_count": 0,
      "outputs": []
    },
    {
      "cell_type": "code",
      "metadata": {
        "id": "ZvUvLnl3kRsW",
        "colab_type": "code",
        "colab": {
          "base_uri": "https://localhost:8080/",
          "height": 34
        },
        "outputId": "f3d8b2d3-65a5-4247-fcc5-7e9c7d8eb4fc"
      },
      "source": [
        "response = requests.get(\"http://api.open-notify.org/astros.json\")\n",
        "print(response.status_code)"
      ],
      "execution_count": 9,
      "outputs": [
        {
          "output_type": "stream",
          "text": [
            "200\n"
          ],
          "name": "stdout"
        }
      ]
    },
    {
      "cell_type": "code",
      "metadata": {
        "id": "t7N51OWOkUy1",
        "colab_type": "code",
        "colab": {
          "base_uri": "https://localhost:8080/",
          "height": 54
        },
        "outputId": "df24e19b-5b9c-4066-fb79-2979b4976c05"
      },
      "source": [
        "print(response.json())"
      ],
      "execution_count": 10,
      "outputs": [
        {
          "output_type": "stream",
          "text": [
            "{'people': [{'name': 'Christina Koch', 'craft': 'ISS'}, {'name': 'Alexander Skvortsov', 'craft': 'ISS'}, {'name': 'Luca Parmitano', 'craft': 'ISS'}, {'name': 'Andrew Morgan', 'craft': 'ISS'}, {'name': 'Oleg Skripochka', 'craft': 'ISS'}, {'name': 'Jessica Meir', 'craft': 'ISS'}], 'number': 6, 'message': 'success'}\n"
          ],
          "name": "stdout"
        }
      ]
    },
    {
      "cell_type": "code",
      "metadata": {
        "id": "4QTdJZ5OlYIR",
        "colab_type": "code",
        "colab": {}
      },
      "source": [
        "# What about an endpoint that doesn't exist?\n",
        "\n",
        "response = requests.get(\"http://api.open-notify.org/this-api-doesnt-exist\")"
      ],
      "execution_count": 0,
      "outputs": []
    },
    {
      "cell_type": "code",
      "metadata": {
        "id": "7JjhwvvylbT1",
        "colab_type": "code",
        "colab": {
          "base_uri": "https://localhost:8080/",
          "height": 34
        },
        "outputId": "fd37bc7b-11aa-4517-ed77-99f454602f49"
      },
      "source": [
        "# We get a 404 error.\n",
        "print(response.status_code)"
      ],
      "execution_count": 5,
      "outputs": [
        {
          "output_type": "stream",
          "text": [
            "404\n"
          ],
          "name": "stdout"
        }
      ]
    },
    {
      "cell_type": "markdown",
      "metadata": {
        "id": "eOnF3pXwqEz8",
        "colab_type": "text"
      },
      "source": [
        "### Experimenting with JSON dumps"
      ]
    },
    {
      "cell_type": "code",
      "metadata": {
        "id": "UtEB5kVXqH9a",
        "colab_type": "code",
        "colab": {
          "base_uri": "https://localhost:8080/",
          "height": 544
        },
        "outputId": "553eab5a-da98-47fc-95d0-79001c4f6359"
      },
      "source": [
        "import json\n",
        "\n",
        "def jprint(obj):\n",
        "    # create a formatted string of the Python JSON object\n",
        "    text = json.dumps(obj, sort_keys=True, indent=4)\n",
        "    print(text)\n",
        "\n",
        "jprint(response.json())"
      ],
      "execution_count": 11,
      "outputs": [
        {
          "output_type": "stream",
          "text": [
            "{\n",
            "    \"message\": \"success\",\n",
            "    \"number\": 6,\n",
            "    \"people\": [\n",
            "        {\n",
            "            \"craft\": \"ISS\",\n",
            "            \"name\": \"Christina Koch\"\n",
            "        },\n",
            "        {\n",
            "            \"craft\": \"ISS\",\n",
            "            \"name\": \"Alexander Skvortsov\"\n",
            "        },\n",
            "        {\n",
            "            \"craft\": \"ISS\",\n",
            "            \"name\": \"Luca Parmitano\"\n",
            "        },\n",
            "        {\n",
            "            \"craft\": \"ISS\",\n",
            "            \"name\": \"Andrew Morgan\"\n",
            "        },\n",
            "        {\n",
            "            \"craft\": \"ISS\",\n",
            "            \"name\": \"Oleg Skripochka\"\n",
            "        },\n",
            "        {\n",
            "            \"craft\": \"ISS\",\n",
            "            \"name\": \"Jessica Meir\"\n",
            "        }\n",
            "    ]\n",
            "}\n"
          ],
          "name": "stdout"
        }
      ]
    },
    {
      "cell_type": "code",
      "metadata": {
        "id": "zWICOBQfq-SF",
        "colab_type": "code",
        "colab": {}
      },
      "source": [
        "# Now let's look at the time the ISS will pass over Manila:\n",
        "parameters = {\n",
        "    \"lat\": 14.5995,\n",
        "    \"lon\": 120.9842\n",
        "}\n",
        "\n",
        "\"\"\"\n",
        "We can also do the same thing directly by adding the parameters directly \n",
        "to the URL. like this: http://api.open-notify.org/iss-pass.json?lat=40.71&lon=-74.\n",
        "\n",
        "It’s almost always preferable to setup the parameters as a dictionary, \n",
        "because requests takes care of some things that come up, like properly \n",
        "formatting the query parameters, and we don’t need to worry about \n",
        "inserting the values into the URL string.\n",
        "\"\"\""
      ],
      "execution_count": 0,
      "outputs": []
    },
    {
      "cell_type": "code",
      "metadata": {
        "id": "XJi8DzQHrRaZ",
        "colab_type": "code",
        "colab": {
          "base_uri": "https://localhost:8080/",
          "height": 579
        },
        "outputId": "f7cd5102-168a-47ce-d464-0c961096b0af"
      },
      "source": [
        "response = requests.get(\"http://api.open-notify.org/iss-pass.json\", params=parameters)\n",
        "\n",
        "jprint(response.json())"
      ],
      "execution_count": 13,
      "outputs": [
        {
          "output_type": "stream",
          "text": [
            "{\n",
            "    \"message\": \"success\",\n",
            "    \"request\": {\n",
            "        \"altitude\": 100,\n",
            "        \"datetime\": 1576365490,\n",
            "        \"latitude\": 14.5995,\n",
            "        \"longitude\": 120.9842,\n",
            "        \"passes\": 5\n",
            "    },\n",
            "    \"response\": [\n",
            "        {\n",
            "            \"duration\": 483,\n",
            "            \"risetime\": 1576370462\n",
            "        },\n",
            "        {\n",
            "            \"duration\": 600,\n",
            "            \"risetime\": 1576400167\n",
            "        },\n",
            "        {\n",
            "            \"duration\": 566,\n",
            "            \"risetime\": 1576405976\n",
            "        },\n",
            "        {\n",
            "            \"duration\": 577,\n",
            "            \"risetime\": 1576448106\n",
            "        },\n",
            "        {\n",
            "            \"duration\": 578,\n",
            "            \"risetime\": 1576453900\n",
            "        }\n",
            "    ]\n",
            "}\n"
          ],
          "name": "stdout"
        }
      ]
    },
    {
      "cell_type": "code",
      "metadata": {
        "id": "3lsOJGgirsmc",
        "colab_type": "code",
        "colab": {
          "base_uri": "https://localhost:8080/",
          "height": 403
        },
        "outputId": "7775c877-da7f-471a-cacb-16dbb869c255"
      },
      "source": [
        "# Let's extract the pass times from our JSON object:\n",
        "pass_times = response.json()['response']\n",
        "jprint(pass_times)"
      ],
      "execution_count": 14,
      "outputs": [
        {
          "output_type": "stream",
          "text": [
            "[\n",
            "    {\n",
            "        \"duration\": 483,\n",
            "        \"risetime\": 1576370462\n",
            "    },\n",
            "    {\n",
            "        \"duration\": 600,\n",
            "        \"risetime\": 1576400167\n",
            "    },\n",
            "    {\n",
            "        \"duration\": 566,\n",
            "        \"risetime\": 1576405976\n",
            "    },\n",
            "    {\n",
            "        \"duration\": 577,\n",
            "        \"risetime\": 1576448106\n",
            "    },\n",
            "    {\n",
            "        \"duration\": 578,\n",
            "        \"risetime\": 1576453900\n",
            "    }\n",
            "]\n"
          ],
          "name": "stdout"
        }
      ]
    },
    {
      "cell_type": "code",
      "metadata": {
        "id": "tUE-zymfr0Q5",
        "colab_type": "code",
        "colab": {
          "base_uri": "https://localhost:8080/",
          "height": 34
        },
        "outputId": "272ad9ed-0e01-4839-bf62-8c1e62163217"
      },
      "source": [
        "# Next we'll use a loop to extract just the five risetime values:\n",
        "\n",
        "risetimes = []\n",
        "\n",
        "for d in pass_times:\n",
        "  time = d['risetime']\n",
        "  risetimes.append(time)\n",
        "\n",
        "print(risetimes)"
      ],
      "execution_count": 15,
      "outputs": [
        {
          "output_type": "stream",
          "text": [
            "[1576370462, 1576400167, 1576405976, 1576448106, 1576453900]\n"
          ],
          "name": "stdout"
        }
      ]
    },
    {
      "cell_type": "code",
      "metadata": {
        "id": "OOhPlryRso3A",
        "colab_type": "code",
        "colab": {
          "base_uri": "https://localhost:8080/",
          "height": 105
        },
        "outputId": "ae24d1c3-c3ea-42b0-99b1-a2a0627e9f1e"
      },
      "source": [
        "# The risetimes are in a format called \"epoch\", difficult to understand.\n",
        "# Interesting note: they measure the number of seconds since January 1, 1970\n",
        "# Let's convert them to something we can understand:\n",
        "\n",
        "from datetime import datetime\n",
        "\n",
        "times = []\n",
        "\n",
        "for rt in risetimes:\n",
        "  time = datetime.fromtimestamp(rt)\n",
        "  times.append(time)\n",
        "  print(time)"
      ],
      "execution_count": 17,
      "outputs": [
        {
          "output_type": "stream",
          "text": [
            "2019-12-15 00:41:02\n",
            "2019-12-15 08:56:07\n",
            "2019-12-15 10:32:56\n",
            "2019-12-15 22:15:06\n",
            "2019-12-15 23:51:40\n"
          ],
          "name": "stdout"
        }
      ]
    },
    {
      "cell_type": "markdown",
      "metadata": {
        "id": "Xe4mpVEEtUoL",
        "colab_type": "text"
      },
      "source": [
        "### Looks like the ISS passes through Manila quite often.  Five times over the next twenty four hours. "
      ]
    }
  ]
}