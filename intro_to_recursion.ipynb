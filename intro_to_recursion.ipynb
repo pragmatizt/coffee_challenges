{
  "nbformat": 4,
  "nbformat_minor": 0,
  "metadata": {
    "colab": {
      "name": "intro_to_recursion.ipynb",
      "provenance": [],
      "collapsed_sections": [],
      "authorship_tag": "ABX9TyNOGQnIA13VOv3Z9vN22l5X",
      "include_colab_link": true
    },
    "kernelspec": {
      "name": "python3",
      "display_name": "Python 3"
    }
  },
  "cells": [
    {
      "cell_type": "markdown",
      "metadata": {
        "id": "view-in-github",
        "colab_type": "text"
      },
      "source": [
        "<a href=\"https://colab.research.google.com/github/pragmatizt/coffee_challenges/blob/master/intro_to_recursion.ipynb\" target=\"_parent\"><img src=\"https://colab.research.google.com/assets/colab-badge.svg\" alt=\"Open In Colab\"/></a>"
      ]
    },
    {
      "cell_type": "code",
      "metadata": {
        "id": "-QxzkMNWwjMO",
        "colab_type": "code",
        "colab": {}
      },
      "source": [
        "\"\"\"\n",
        "We’re going to start off with one of the simplest examples of a problem \n",
        "that lends itself really well to a recursive solution. That is the problem \n",
        "writing a function to calculate n! for some input integer n. If you don’t \n",
        "remember the factorial function, it calculates the cumulative product of \n",
        "every integer from 1 up to n. In other words, \n",
        "\n",
        "n * (n - 1) * (n - 2) * ... * 1.\n",
        "\n",
        "\"\"\""
      ],
      "execution_count": 0,
      "outputs": []
    },
    {
      "cell_type": "markdown",
      "metadata": {
        "id": "QTDL5APlwyXX",
        "colab_type": "text"
      },
      "source": [
        "When it comes to defininga recursive implementation to a problem, there are always two questions you need to ask yourself:\n",
        "\n",
        "1.   What are the base cases for this problem?\n",
        "2.   If my code has not currently arrived at a base case, how does it move towards a base case?\n",
        "\n",
        "*Note to self: Base case (recursion), the terminating scenario in recursion that does not use recursion to produce an answer*"
      ]
    },
    {
      "cell_type": "code",
      "metadata": {
        "id": "00bbYujhwwyy",
        "colab_type": "code",
        "colab": {}
      },
      "source": [
        "# Here's the recursive form of the factorial function:\n",
        "\n",
        "def recurse_factorial(n):\n",
        "  if n == 0:\n",
        "    return 1\n",
        "  return n * recurse_factorial(n - 1)"
      ],
      "execution_count": 0,
      "outputs": []
    },
    {
      "cell_type": "code",
      "metadata": {
        "id": "va8cLsHyww9L",
        "colab_type": "code",
        "colab": {}
      },
      "source": [
        "# When you see a function like this, break it up into smaller pieces.\n",
        "\n",
        "def recurse_factorial(n):\n",
        "# Base case = first two lines. This base case encapsulates the logic that the\n",
        "# factorial function starts at n and then stops at 1. Past that, the factorial \n",
        "# function si undefined over negative numbers, and if we actually multiplied by 0,\n",
        "# then we'd just get 0 back as our result.\n",
        "  if n == 0:\n",
        "    return 1\n",
        "    \n",
        "# The last line is how our recursive function moves towards our defined base case. \n",
        "# We have our given starting input n, we have specified in our function that once\n",
        "# n reaches 0, we return.  So what about all the values in between?  Well, we can move \n",
        "# towards our base case by continually subtracting 1 from our input n, then feeding\n",
        "# that new input to our recursive function.  Eventually, our recursive function\n",
        "# will be called with n = 0, at which point, it's arrived at our defined base case and stops \n",
        "# recursing, returning us an answer.\n",
        "  return n * recurse_factorial(n - 1)"
      ],
      "execution_count": 0,
      "outputs": []
    },
    {
      "cell_type": "markdown",
      "metadata": {
        "id": "JOJpUGFszCZ1",
        "colab_type": "text"
      },
      "source": [
        "### Now let's try merge sort"
      ]
    },
    {
      "cell_type": "code",
      "metadata": {
        "id": "1cqD52WcyjQV",
        "colab_type": "code",
        "colab": {}
      },
      "source": [
        "def merge_sort(arr):\n",
        "  if len(arr) > 1:\n",
        "    # recursively call merge_sort() on LHS\n",
        "    # recursively call merge_sort() on RHS\n",
        "    # merge sorted pieces\n",
        "\n",
        "def merge_helped(a, b):\n",
        "  merged_arr = []\n",
        "\n",
        "  # starting at beginning of `a` and `b`\n",
        "  # compare the next value of each\n",
        "  # add smallest to `merged_arr`\n",
        "\n",
        "  return merged_arr"
      ],
      "execution_count": 0,
      "outputs": []
    },
    {
      "cell_type": "markdown",
      "metadata": {
        "id": "MZCs5OSUzYxG",
        "colab_type": "text"
      },
      "source": [
        "### And quick sort\n",
        "\n",
        "There are many ways of completing the Quick Sort stub shown below.  Specifically, there are many different approaches to choosing a pivot.  A similar approach is to use the first element in `arr`.  Other approaches include choosing the middle element or even a random element."
      ]
    },
    {
      "cell_type": "code",
      "metadata": {
        "id": "xdS2daTBzVrK",
        "colab_type": "code",
        "colab": {}
      },
      "source": [
        "def quick_sort(arr):\n",
        "  if len(arr) > 1:\n",
        "    # choose a pivot\n",
        "    # loop through all elements in arr\n",
        "      # if element < pivot, move to LHS of pivot\n",
        "    # quick_sort(LHS)\n",
        "    # quick_sort(RHS)\n",
        "\n",
        "  return arr"
      ],
      "execution_count": 0,
      "outputs": []
    },
    {
      "cell_type": "markdown",
      "metadata": {
        "id": "-YgTSwHazunD",
        "colab_type": "text"
      },
      "source": [
        "Remember that `Python` passes collections by reference, *not* by value."
      ]
    },
    {
      "cell_type": "markdown",
      "metadata": {
        "id": "JsOF5YhPyXGF",
        "colab_type": "text"
      },
      "source": [
        "Resources:\n",
        "Further reading to help you understand recursion better.\n",
        "- https://runestone.academy/runestone/books/published/pythonds/Recursion/toctree.html\n",
        "- https://www.khanacademy.org/computing/computer-science/algorithms/recursive-algorithms/a/recursion\n",
        "- Challenge: https://github.com/LambdaSchool/Sorting"
      ]
    }
  ]
}