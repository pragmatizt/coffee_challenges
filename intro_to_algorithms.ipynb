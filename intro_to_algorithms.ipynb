{
  "nbformat": 4,
  "nbformat_minor": 0,
  "metadata": {
    "colab": {
      "name": "intro_to_algorithms.ipynb",
      "provenance": [],
      "collapsed_sections": [],
      "authorship_tag": "ABX9TyP9vBIaJUUIvx1RwApolUWK",
      "include_colab_link": true
    },
    "kernelspec": {
      "name": "python3",
      "display_name": "Python 3"
    }
  },
  "cells": [
    {
      "cell_type": "markdown",
      "metadata": {
        "id": "view-in-github",
        "colab_type": "text"
      },
      "source": [
        "<a href=\"https://colab.research.google.com/github/pragmatizt/coffee_challenges/blob/master/intro_to_algorithms.ipynb\" target=\"_parent\"><img src=\"https://colab.research.google.com/assets/colab-badge.svg\" alt=\"Open In Colab\"/></a>"
      ]
    },
    {
      "cell_type": "markdown",
      "metadata": {
        "id": "-ReB7pJ_k_-L",
        "colab_type": "text"
      },
      "source": [
        "Let’s try searching the same set of data with both approaches. Consider the following array of integers:\n"
      ]
    },
    {
      "cell_type": "code",
      "metadata": {
        "id": "fOPPUWLqk74_",
        "colab_type": "code",
        "colab": {}
      },
      "source": [
        "import math\n",
        "import numpy as np\n",
        "import pandas as pd\n",
        "\n",
        "\n",
        "arr = [0, 1, 2, 3, 4, 5, 6, 7, 8, 9, 10, 11, 12, 13, 14, 15, 16, 17, 18, 19]"
      ],
      "execution_count": 0,
      "outputs": []
    },
    {
      "cell_type": "code",
      "metadata": {
        "id": "wyRAUaZMlDVp",
        "colab_type": "code",
        "colab": {
          "base_uri": "https://localhost:8080/",
          "height": 157
        },
        "outputId": "cc9dbaa4-d412-4460-c74d-6fc82bb3c6b5"
      },
      "source": [
        "# Linear Search:\n",
        "# If we are searching for the value 15, this is what will happen:\n",
        "print(arr[0])\n",
        "print(arr[1])\n",
        "print(arr[2])\n",
        "print(arr[3])\n",
        "print(arr[4])\n",
        "print(arr[5])\n",
        "\n",
        "print('...')\n",
        "\n",
        "print(arr[14])  # yes!  wecan return the index where the target value can be found.\n",
        "\n",
        "### Kind of tedious, even when we only had to perform 15 checks."
      ],
      "execution_count": 11,
      "outputs": [
        {
          "output_type": "stream",
          "text": [
            "0\n",
            "1\n",
            "2\n",
            "3\n",
            "4\n",
            "5\n",
            "...\n",
            "14\n"
          ],
          "name": "stdout"
        }
      ]
    },
    {
      "cell_type": "code",
      "metadata": {
        "id": "DcBL8AnDlDfh",
        "colab_type": "code",
        "colab": {
          "base_uri": "https://localhost:8080/",
          "height": 34
        },
        "outputId": "3e3b73d9-f4db-41b5-aba9-b5be5f578cae"
      },
      "source": [
        "# Binary Search\n",
        "middle = len(arr) / 2\n",
        "middle"
      ],
      "execution_count": 20,
      "outputs": [
        {
          "output_type": "execute_result",
          "data": {
            "text/plain": [
              "10.0"
            ]
          },
          "metadata": {
            "tags": []
          },
          "execution_count": 20
        }
      ]
    },
    {
      "cell_type": "code",
      "metadata": {
        "id": "x0dyV0wTlDk6",
        "colab_type": "code",
        "colab": {
          "base_uri": "https://localhost:8080/",
          "height": 34
        },
        "outputId": "0d49b4a1-2cfa-4111-a6b2-7b9eee5f5c6e"
      },
      "source": [
        "arr[10]\n",
        "\n",
        "# arr[10] is < 15.  \n",
        "# Eliminate LHS of array, continue searching RHS."
      ],
      "execution_count": 21,
      "outputs": [
        {
          "output_type": "execute_result",
          "data": {
            "text/plain": [
              "10"
            ]
          },
          "metadata": {
            "tags": []
          },
          "execution_count": 21
        }
      ]
    },
    {
      "cell_type": "code",
      "metadata": {
        "id": "2BxPLTIolDi6",
        "colab_type": "code",
        "colab": {
          "base_uri": "https://localhost:8080/",
          "height": 34
        },
        "outputId": "c41ed02d-9ae1-4bc5-d999-dd70d88455f4"
      },
      "source": [
        "len(arr[11:]) // 2"
      ],
      "execution_count": 26,
      "outputs": [
        {
          "output_type": "execute_result",
          "data": {
            "text/plain": [
              "4"
            ]
          },
          "metadata": {
            "tags": []
          },
          "execution_count": 26
        }
      ]
    },
    {
      "cell_type": "code",
      "metadata": {
        "id": "zeC8TUyAnF1I",
        "colab_type": "code",
        "colab": {
          "base_uri": "https://localhost:8080/",
          "height": 34
        },
        "outputId": "882d5b5d-4493-4f76-ff06-87052678c8bf"
      },
      "source": [
        "arr[11 + 4]\n",
        "\n",
        "# Ah, so that equals 15.  We can return the index where the target value can be found."
      ],
      "execution_count": 27,
      "outputs": [
        {
          "output_type": "execute_result",
          "data": {
            "text/plain": [
              "15"
            ]
          },
          "metadata": {
            "tags": []
          },
          "execution_count": 27
        }
      ]
    },
    {
      "cell_type": "markdown",
      "metadata": {
        "id": "njDi3nGnnM-R",
        "colab_type": "text"
      },
      "source": [
        "### More exercises:\n",
        "1. Try writing a Python function to perform a **linear search** on a set of data\n",
        "2. Try writing a Python function to perform a **binary search** on a set of data.\n",
        "3. Can you rewrite the above function so that it uses *recursion*?\n",
        "\n",
        "![alt text](https://tk-assets.lambdaschool.com/447af4f2-a590-47c0-9631-7e97c971d4fc_Resources19.png)"
      ]
    },
    {
      "cell_type": "markdown",
      "metadata": {
        "id": "uzk964UboHkS",
        "colab_type": "text"
      },
      "source": [
        "## Selection Sort\n",
        "![alt text](https://tk-assets.lambdaschool.com/7fb635fc-7511-4c21-9e2b-e66a8642524b_Resources18.png)"
      ]
    },
    {
      "cell_type": "markdown",
      "metadata": {
        "id": "gRQeWUOLohmq",
        "colab_type": "text"
      },
      "source": [
        "## New functions:\n",
        "- insertion_sort()\n",
        "- selection_sort()\n",
        "- bubble_sort()\n",
        "\n",
        "A few general things that you can think about when working to translate the overviews of the algorithms above into `Python` are:\n",
        "\n",
        "*   Keywords that imply a *loop* is required:\n",
        "-- while/for\n",
        "-- as long as\n",
        "-- until\n",
        "*   Conditions that can be checked with if/else blocks\n",
        "-- when we find __\n",
        "-- if __ happens\n",
        "-- once this value is large/smaller\n",
        "*   What *type* of value should be returned?\n",
        "\n"
      ]
    },
    {
      "cell_type": "code",
      "metadata": {
        "id": "Frc-Psc3pWJD",
        "colab_type": "code",
        "colab": {}
      },
      "source": [
        "def insertion_sort(elements):\n",
        "  pass\n",
        "\n",
        "# If `elements` is a collection, remember it will be passed by reference, not value\n",
        "\n",
        "# How many loops will be needed to complete this algorithm?\n",
        "    # How do we know how many items should be shifted over to the right?\n",
        "    # What do we need to do so that we don't overwrite the value we are `inserting`?\n",
        "\n",
        "# What, if anything needs to be returned?"
      ],
      "execution_count": 0,
      "outputs": []
    },
    {
      "cell_type": "code",
      "metadata": {
        "id": "yo325Q4TppqD",
        "colab_type": "code",
        "colab": {}
      },
      "source": [
        "def selection_sort(elements):\n",
        "  pass\n",
        "\n",
        "# If `elements` is a collection, remember it will be passed by reference, not value\n",
        "\n",
        "# How many loops will be needed to complete this algorithm?\n",
        "    # How do we know when we are ready to swap values?\n",
        "    # And how do we keep track of which values should be swapped?\n",
        "\n",
        "# What, if anything needs to be returned?"
      ],
      "execution_count": 0,
      "outputs": []
    },
    {
      "cell_type": "code",
      "metadata": {
        "id": "h9EE90xFpp7n",
        "colab_type": "code",
        "colab": {}
      },
      "source": [
        "def bubble_sort(elements): \n",
        "  pass\n",
        "\n",
        "# If `elements` is a collection, remember it will be passed by reference, not value\n",
        "\n",
        "# We only need to loop through `elements` until we make a pass that leads to 0 swaps. \n",
        "# how do we keep track of whether or not any swaps have occurred?\n",
        "\n",
        "# Do we always need to loop through all elements?\n",
        "    # Depending on how our loop was set up, which neighbors should be compared?\n",
        "    # Can we do swaps in Python without a `temp` variable?\n",
        "\n",
        "# What, if anything needs to be returned?"
      ],
      "execution_count": 0,
      "outputs": []
    }
  ]
}