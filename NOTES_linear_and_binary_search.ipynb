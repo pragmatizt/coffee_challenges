{
  "nbformat": 4,
  "nbformat_minor": 0,
  "metadata": {
    "colab": {
      "name": "NOTES_linear_and_binary_search.ipynb",
      "provenance": [],
      "collapsed_sections": [],
      "authorship_tag": "ABX9TyMWxWk0mafvXlYwEPoYHQIR",
      "include_colab_link": true
    },
    "kernelspec": {
      "name": "python3",
      "display_name": "Python 3"
    }
  },
  "cells": [
    {
      "cell_type": "markdown",
      "metadata": {
        "id": "view-in-github",
        "colab_type": "text"
      },
      "source": [
        "<a href=\"https://colab.research.google.com/github/pragmatizt/coffee_challenges/blob/master/NOTES_linear_and_binary_search.ipynb\" target=\"_parent\"><img src=\"https://colab.research.google.com/assets/colab-badge.svg\" alt=\"Open In Colab\"/></a>"
      ]
    },
    {
      "cell_type": "markdown",
      "metadata": {
        "id": "HK5FIC5n5RAk",
        "colab_type": "text"
      },
      "source": [
        "### How you search matters.\n",
        "\n",
        "Example: grocery store example.\n",
        "If we have a list of shopping items, and we're trying to figure out whether we've put something in the cart already, we can go down the list and check each item.\n",
        "\n",
        "But on a long list, this could take a really long time."
      ]
    },
    {
      "cell_type": "markdown",
      "metadata": {
        "id": "WtfaxzfD5RNv",
        "colab_type": "text"
      },
      "source": [
        "## Linear (Sequential Search)\n",
        "\n",
        "Starting with the first index...\n",
        "1. Check if value at index = value we are searching\n",
        "a. if YES:\n",
        " - Great! return index\n",
        "b. if NO:\n",
        " - if end of list reached, return item not found\n",
        " - else, index++ and repeat"
      ]
    },
    {
      "cell_type": "markdown",
      "metadata": {
        "id": "QybZCj6D5Rgv",
        "colab_type": "text"
      },
      "source": [
        "If we were going to do it in code, \n",
        "linear_search(\"flour\"):\n",
        "Starting with the first index...\n",
        "1. Check if value at index = value we are searching for.\n",
        "  a. if YES:\n",
        "   - Great! Return Index\n",
        "  b. if NO:\n",
        "   - if end of list reached, return item not found\n",
        "  - else, index++ and repeat"
      ]
    },
    {
      "cell_type": "markdown",
      "metadata": {
        "id": "3Er3d_Cu6e5C",
        "colab_type": "text"
      },
      "source": [
        "### Aside: This is the first time they mentioned big O(n)"
      ]
    },
    {
      "cell_type": "markdown",
      "metadata": {
        "id": "NwYadrad6ziT",
        "colab_type": "text"
      },
      "source": [
        "### Binary Search\n",
        "Starting with the middle index\n",
        "1. Check if value at index = value we are searching for.\n",
        "  a. if YES:\n",
        "    - Great! Return Index\n",
        "  b. If NO:\n",
        "    - if This was final index to search, return item\n",
        "    - else if value at index > target value, eliminate search on LHS\n",
        "    - else, eliminate LHS, repeat search on RHS."
      ]
    },
    {
      "cell_type": "code",
      "metadata": {
        "id": "Tl-0mmn58A5n",
        "colab_type": "code",
        "colab": {}
      },
      "source": [
        "# Code for linear search\n",
        "def linear_search(arr, target):\n",
        "  for i in range(0, len(arr)):\n",
        "    if arr[i] == target:\n",
        "      return i\n",
        "  return -1 # not found"
      ],
      "execution_count": 0,
      "outputs": []
    },
    {
      "cell_type": "code",
      "metadata": {
        "id": "8CerJZIv8Jbb",
        "colab_type": "code",
        "colab": {}
      },
      "source": [
        "# Now let's compare it to binary search\n",
        "\n",
        "def binary_search(arr, target):\n",
        "  # Assignment operations\n",
        "  low = 0\n",
        "  high = len(arr) - 1\n",
        "  # While loop\n",
        "  while low <= high:\n",
        "    middle = (low + high) / 2\n",
        "    if target < arr[middle]: \n",
        "      high = middle - 1     # eliminate RHS\n",
        "    elif target > arr[middle]:\n",
        "      low = middle + 1      # eliminate LHS\n",
        "    else:\n",
        "      return middle\n",
        "  return -1       # not found"
      ],
      "execution_count": 0,
      "outputs": []
    },
    {
      "cell_type": "markdown",
      "metadata": {
        "id": "uV_HGSrh6zxU",
        "colab_type": "text"
      },
      "source": [
        "Because of the way low and high are modified, no issues with Big O(n).\n",
        "\n",
        "When you have this type of halving going on, that gives us a runtime lesser than linear time.  "
      ]
    },
    {
      "cell_type": "markdown",
      "metadata": {
        "id": "u92bCxMw9RRE",
        "colab_type": "text"
      },
      "source": [
        "### In summary:\n",
        "We search our data A LOT.  So, the search algorithm we choose should be as efficient as possible which means we want to utilize sorting to cut down on our search times."
      ]
    }
  ]
}