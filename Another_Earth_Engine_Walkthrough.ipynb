{
  "nbformat": 4,
  "nbformat_minor": 0,
  "metadata": {
    "colab": {
      "name": "Another Earth Engine Walkthrough",
      "provenance": [],
      "authorship_tag": "ABX9TyNEzKGsRff5/wsN5P0pnarY",
      "include_colab_link": true
    },
    "kernelspec": {
      "name": "python3",
      "display_name": "Python 3"
    }
  },
  "cells": [
    {
      "cell_type": "markdown",
      "metadata": {
        "id": "view-in-github",
        "colab_type": "text"
      },
      "source": [
        "<a href=\"https://colab.research.google.com/github/pragmatizt/coffee_challenges/blob/master/Another_Earth_Engine_Walkthrough.ipynb\" target=\"_parent\"><img src=\"https://colab.research.google.com/assets/colab-badge.svg\" alt=\"Open In Colab\"/></a>"
      ]
    },
    {
      "cell_type": "markdown",
      "metadata": {
        "id": "Y96YYJezJUGy",
        "colab_type": "text"
      },
      "source": [
        "**This tutorial came from:** https://colab.research.google.com/github/csaybar/EEwPython/blob/dev/index.ipynb#scrollTo=jgutoC1MiMML"
      ]
    },
    {
      "cell_type": "code",
      "metadata": {
        "id": "JAWBDZHnBfkr",
        "colab_type": "code",
        "colab": {
          "base_uri": "https://localhost:8080/",
          "height": 488
        },
        "outputId": "705b92a6-c666-42f9-9878-2db836d52b4a"
      },
      "source": [
        "!pip install earthengine-api"
      ],
      "execution_count": 1,
      "outputs": [
        {
          "output_type": "stream",
          "text": [
            "Requirement already satisfied: earthengine-api in /usr/local/lib/python3.6/dist-packages (0.1.213)\n",
            "Requirement already satisfied: google-api-python-client in /usr/local/lib/python3.6/dist-packages (from earthengine-api) (1.7.11)\n",
            "Requirement already satisfied: google-cloud-storage in /usr/local/lib/python3.6/dist-packages (from earthengine-api) (1.16.2)\n",
            "Requirement already satisfied: six in /usr/local/lib/python3.6/dist-packages (from earthengine-api) (1.12.0)\n",
            "Requirement already satisfied: httplib2<1dev,>=0.9.2 in /usr/local/lib/python3.6/dist-packages (from earthengine-api) (0.11.3)\n",
            "Requirement already satisfied: google-auth>=1.4.1 in /usr/local/lib/python3.6/dist-packages (from earthengine-api) (1.7.2)\n",
            "Requirement already satisfied: future in /usr/local/lib/python3.6/dist-packages (from earthengine-api) (0.16.0)\n",
            "Requirement already satisfied: google-auth-httplib2>=0.0.3 in /usr/local/lib/python3.6/dist-packages (from earthengine-api) (0.0.3)\n",
            "Requirement already satisfied: httplib2shim in /usr/local/lib/python3.6/dist-packages (from earthengine-api) (0.0.3)\n",
            "Requirement already satisfied: uritemplate<4dev,>=3.0.0 in /usr/local/lib/python3.6/dist-packages (from google-api-python-client->earthengine-api) (3.0.1)\n",
            "Requirement already satisfied: google-cloud-core<2.0dev,>=1.0.0 in /usr/local/lib/python3.6/dist-packages (from google-cloud-storage->earthengine-api) (1.0.3)\n",
            "Requirement already satisfied: google-resumable-media<0.5.0dev,>=0.3.1 in /usr/local/lib/python3.6/dist-packages (from google-cloud-storage->earthengine-api) (0.4.1)\n",
            "Requirement already satisfied: setuptools>=40.3.0 in /usr/local/lib/python3.6/dist-packages (from google-auth>=1.4.1->earthengine-api) (45.2.0)\n",
            "Requirement already satisfied: cachetools<3.2,>=2.0.0 in /usr/local/lib/python3.6/dist-packages (from google-auth>=1.4.1->earthengine-api) (3.1.1)\n",
            "Requirement already satisfied: rsa<4.1,>=3.1.4 in /usr/local/lib/python3.6/dist-packages (from google-auth>=1.4.1->earthengine-api) (4.0)\n",
            "Requirement already satisfied: pyasn1-modules>=0.2.1 in /usr/local/lib/python3.6/dist-packages (from google-auth>=1.4.1->earthengine-api) (0.2.8)\n",
            "Requirement already satisfied: certifi in /usr/local/lib/python3.6/dist-packages (from httplib2shim->earthengine-api) (2019.11.28)\n",
            "Requirement already satisfied: urllib3 in /usr/local/lib/python3.6/dist-packages (from httplib2shim->earthengine-api) (1.24.3)\n",
            "Requirement already satisfied: google-api-core<2.0.0dev,>=1.14.0 in /usr/local/lib/python3.6/dist-packages (from google-cloud-core<2.0dev,>=1.0.0->google-cloud-storage->earthengine-api) (1.16.0)\n",
            "Requirement already satisfied: pyasn1>=0.1.3 in /usr/local/lib/python3.6/dist-packages (from rsa<4.1,>=3.1.4->google-auth>=1.4.1->earthengine-api) (0.4.8)\n",
            "Requirement already satisfied: protobuf>=3.4.0 in /usr/local/lib/python3.6/dist-packages (from google-api-core<2.0.0dev,>=1.14.0->google-cloud-core<2.0dev,>=1.0.0->google-cloud-storage->earthengine-api) (3.10.0)\n",
            "Requirement already satisfied: googleapis-common-protos<2.0dev,>=1.6.0 in /usr/local/lib/python3.6/dist-packages (from google-api-core<2.0.0dev,>=1.14.0->google-cloud-core<2.0dev,>=1.0.0->google-cloud-storage->earthengine-api) (1.51.0)\n",
            "Requirement already satisfied: pytz in /usr/local/lib/python3.6/dist-packages (from google-api-core<2.0.0dev,>=1.14.0->google-cloud-core<2.0dev,>=1.0.0->google-cloud-storage->earthengine-api) (2018.9)\n",
            "Requirement already satisfied: requests<3.0.0dev,>=2.18.0 in /usr/local/lib/python3.6/dist-packages (from google-api-core<2.0.0dev,>=1.14.0->google-cloud-core<2.0dev,>=1.0.0->google-cloud-storage->earthengine-api) (2.21.0)\n",
            "Requirement already satisfied: chardet<3.1.0,>=3.0.2 in /usr/local/lib/python3.6/dist-packages (from requests<3.0.0dev,>=2.18.0->google-api-core<2.0.0dev,>=1.14.0->google-cloud-core<2.0dev,>=1.0.0->google-cloud-storage->earthengine-api) (3.0.4)\n",
            "Requirement already satisfied: idna<2.9,>=2.5 in /usr/local/lib/python3.6/dist-packages (from requests<3.0.0dev,>=2.18.0->google-api-core<2.0.0dev,>=1.14.0->google-cloud-core<2.0dev,>=1.0.0->google-cloud-storage->earthengine-api) (2.8)\n"
          ],
          "name": "stdout"
        }
      ]
    },
    {
      "cell_type": "code",
      "metadata": {
        "id": "s-f-Kb3vCdSc",
        "colab_type": "code",
        "colab": {}
      },
      "source": [
        "!earthengine authenticate"
      ],
      "execution_count": 0,
      "outputs": []
    },
    {
      "cell_type": "code",
      "metadata": {
        "id": "HK3mdE09BkPw",
        "colab_type": "code",
        "colab": {}
      },
      "source": [
        "# Let's authenticate Google Drive\n",
        "\"\"\"I've removed this cell and the next, authenticating to Google Drive and Google Cloud doesn't seem necessary\"\"\"\n",
        "\n",
        "# from google.colab import drive\n",
        "# drive.mount('/content/drive')"
      ],
      "execution_count": 0,
      "outputs": []
    },
    {
      "cell_type": "code",
      "metadata": {
        "id": "8boD6qpBBkSW",
        "colab_type": "code",
        "colab": {}
      },
      "source": [
        "# Authenticate to Google cloud\n",
        "# from google.colab import auth\n",
        "\n",
        "# auth.authenticate_user()"
      ],
      "execution_count": 0,
      "outputs": []
    },
    {
      "cell_type": "code",
      "metadata": {
        "id": "kyn0oFf5BkVE",
        "colab_type": "code",
        "colab": {}
      },
      "source": [
        "# Once we've authorized access, initialize connection below:\n",
        "\"\"\"This one I kept, because we definitely do need to initialize ee\"\"\"\n",
        "\n",
        "import ee\n",
        "ee.Initialize()"
      ],
      "execution_count": 0,
      "outputs": []
    },
    {
      "cell_type": "markdown",
      "metadata": {
        "id": "BUCJx3e9CmrH",
        "colab_type": "text"
      },
      "source": [
        "## Hello World!\n",
        "\n",
        "\n",
        "*   **assetID**: is the key to identify a specific file in [GEE datasets](https://developers.google.com/earth-engine/datasets/catalog/USGS_SRTMGL1_003).\n",
        "*   **ee.Image('assetID')**: In GEE raster data are represented as Image objects (see the next topic).\n",
        "*   **ee.Imaeg.clip(ee.Geometry.____)**: Is a ee.Image method used to crop spatially bands in Images.\n",
        "*   **folium**: bridge between python and [Leaflet](https://leafletjs.com/)\n",
        "\n",
        "\n",
        "\n"
      ]
    },
    {
      "cell_type": "code",
      "metadata": {
        "id": "L4UIoX-bDFFh",
        "colab_type": "code",
        "colab": {
          "base_uri": "https://localhost:8080/",
          "height": 847
        },
        "outputId": "cf1e03aa-563f-4336-c990-8f78bdf233ab"
      },
      "source": [
        "import folium\n",
        "\n",
        "Peru = ee.Image(\"USGS/SRTMGL1_003\")\\\n",
        "          .clip(ee.Geometry.Rectangle(-85, -20, -65, 0))\n",
        "\n",
        "# Define the URL format used for Earth Engine generated map tiles.\n",
        "EE_TILES = 'https://earthengine.googleapis.com/map/{mapid}/{{z}}/{{x}}/{{y}}?token={token}'\n",
        "\n",
        "# Use folium to visualzie the imagery.\n",
        "mapid = Peru.getMapId({'pallete': ['black', 'white'], 'min': 0, 'max': 3000})\n",
        "\n",
        "map = folium.Map(location=[-10, -75], zoom_start=5)\n",
        "folium.TileLayer(\n",
        "    tiles=EE_TILES.format(**mapid),\n",
        "    attr='Google Earth Engine',\n",
        "    overlay=True,\n",
        "    name='median composite',\n",
        "  ).add_to(map)\n",
        "\n",
        "map.add_child(folium.LayerControl())\n",
        "map"
      ],
      "execution_count": 6,
      "outputs": [
        {
          "output_type": "execute_result",
          "data": {
            "text/html": [
              "<div style=\"width:100%;\"><div style=\"position:relative;width:100%;height:0;padding-bottom:60%;\"><iframe src=\"data:text/html;charset=utf-8;base64,PCFET0NUWVBFIGh0bWw+CjxoZWFkPiAgICAKICAgIDxtZXRhIGh0dHAtZXF1aXY9ImNvbnRlbnQtdHlwZSIgY29udGVudD0idGV4dC9odG1sOyBjaGFyc2V0PVVURi04IiAvPgogICAgPHNjcmlwdD5MX1BSRUZFUl9DQU5WQVM9ZmFsc2U7IExfTk9fVE9VQ0g9ZmFsc2U7IExfRElTQUJMRV8zRD1mYWxzZTs8L3NjcmlwdD4KICAgIDxzY3JpcHQgc3JjPSJodHRwczovL2Nkbi5qc2RlbGl2ci5uZXQvbnBtL2xlYWZsZXRAMS40LjAvZGlzdC9sZWFmbGV0LmpzIj48L3NjcmlwdD4KICAgIDxzY3JpcHQgc3JjPSJodHRwczovL2NvZGUuanF1ZXJ5LmNvbS9qcXVlcnktMS4xMi40Lm1pbi5qcyI+PC9zY3JpcHQ+CiAgICA8c2NyaXB0IHNyYz0iaHR0cHM6Ly9tYXhjZG4uYm9vdHN0cmFwY2RuLmNvbS9ib290c3RyYXAvMy4yLjAvanMvYm9vdHN0cmFwLm1pbi5qcyI+PC9zY3JpcHQ+CiAgICA8c2NyaXB0IHNyYz0iaHR0cHM6Ly9jZG5qcy5jbG91ZGZsYXJlLmNvbS9hamF4L2xpYnMvTGVhZmxldC5hd2Vzb21lLW1hcmtlcnMvMi4wLjIvbGVhZmxldC5hd2Vzb21lLW1hcmtlcnMuanMiPjwvc2NyaXB0PgogICAgPGxpbmsgcmVsPSJzdHlsZXNoZWV0IiBocmVmPSJodHRwczovL2Nkbi5qc2RlbGl2ci5uZXQvbnBtL2xlYWZsZXRAMS40LjAvZGlzdC9sZWFmbGV0LmNzcyIvPgogICAgPGxpbmsgcmVsPSJzdHlsZXNoZWV0IiBocmVmPSJodHRwczovL21heGNkbi5ib290c3RyYXBjZG4uY29tL2Jvb3RzdHJhcC8zLjIuMC9jc3MvYm9vdHN0cmFwLm1pbi5jc3MiLz4KICAgIDxsaW5rIHJlbD0ic3R5bGVzaGVldCIgaHJlZj0iaHR0cHM6Ly9tYXhjZG4uYm9vdHN0cmFwY2RuLmNvbS9ib290c3RyYXAvMy4yLjAvY3NzL2Jvb3RzdHJhcC10aGVtZS5taW4uY3NzIi8+CiAgICA8bGluayByZWw9InN0eWxlc2hlZXQiIGhyZWY9Imh0dHBzOi8vbWF4Y2RuLmJvb3RzdHJhcGNkbi5jb20vZm9udC1hd2Vzb21lLzQuNi4zL2Nzcy9mb250LWF3ZXNvbWUubWluLmNzcyIvPgogICAgPGxpbmsgcmVsPSJzdHlsZXNoZWV0IiBocmVmPSJodHRwczovL2NkbmpzLmNsb3VkZmxhcmUuY29tL2FqYXgvbGlicy9MZWFmbGV0LmF3ZXNvbWUtbWFya2Vycy8yLjAuMi9sZWFmbGV0LmF3ZXNvbWUtbWFya2Vycy5jc3MiLz4KICAgIDxsaW5rIHJlbD0ic3R5bGVzaGVldCIgaHJlZj0iaHR0cHM6Ly9yYXdjZG4uZ2l0aGFjay5jb20vcHl0aG9uLXZpc3VhbGl6YXRpb24vZm9saXVtL21hc3Rlci9mb2xpdW0vdGVtcGxhdGVzL2xlYWZsZXQuYXdlc29tZS5yb3RhdGUuY3NzIi8+CiAgICA8c3R5bGU+aHRtbCwgYm9keSB7d2lkdGg6IDEwMCU7aGVpZ2h0OiAxMDAlO21hcmdpbjogMDtwYWRkaW5nOiAwO308L3N0eWxlPgogICAgPHN0eWxlPiNtYXAge3Bvc2l0aW9uOmFic29sdXRlO3RvcDowO2JvdHRvbTowO3JpZ2h0OjA7bGVmdDowO308L3N0eWxlPgogICAgCiAgICA8bWV0YSBuYW1lPSJ2aWV3cG9ydCIgY29udGVudD0id2lkdGg9ZGV2aWNlLXdpZHRoLAogICAgICAgIGluaXRpYWwtc2NhbGU9MS4wLCBtYXhpbXVtLXNjYWxlPTEuMCwgdXNlci1zY2FsYWJsZT1ubyIgLz4KICAgIDxzdHlsZT4jbWFwXzRjMDEzMDFiMDAyNzQ3YzNhMDEyNzkwZDg4ZDgxOGU1IHsKICAgICAgICBwb3NpdGlvbjogcmVsYXRpdmU7CiAgICAgICAgd2lkdGg6IDEwMC4wJTsKICAgICAgICBoZWlnaHQ6IDEwMC4wJTsKICAgICAgICBsZWZ0OiAwLjAlOwogICAgICAgIHRvcDogMC4wJTsKICAgICAgICB9CiAgICA8L3N0eWxlPgo8L2hlYWQ+Cjxib2R5PiAgICAKICAgIAogICAgPGRpdiBjbGFzcz0iZm9saXVtLW1hcCIgaWQ9Im1hcF80YzAxMzAxYjAwMjc0N2MzYTAxMjc5MGQ4OGQ4MThlNSIgPjwvZGl2Pgo8L2JvZHk+CjxzY3JpcHQ+ICAgIAogICAgCiAgICAKICAgICAgICB2YXIgYm91bmRzID0gbnVsbDsKICAgIAoKICAgIHZhciBtYXBfNGMwMTMwMWIwMDI3NDdjM2EwMTI3OTBkODhkODE4ZTUgPSBMLm1hcCgKICAgICAgICAnbWFwXzRjMDEzMDFiMDAyNzQ3YzNhMDEyNzkwZDg4ZDgxOGU1JywgewogICAgICAgIGNlbnRlcjogWy0xMCwgLTc1XSwKICAgICAgICB6b29tOiA1LAogICAgICAgIG1heEJvdW5kczogYm91bmRzLAogICAgICAgIGxheWVyczogW10sCiAgICAgICAgd29ybGRDb3B5SnVtcDogZmFsc2UsCiAgICAgICAgY3JzOiBMLkNSUy5FUFNHMzg1NywKICAgICAgICB6b29tQ29udHJvbDogdHJ1ZSwKICAgICAgICB9KTsKCgogICAgCiAgICB2YXIgdGlsZV9sYXllcl83Zjg5ZmZlMjZiODU0MzFjYmQ4M2JjOTQ3ZmZhZTQyNiA9IEwudGlsZUxheWVyKAogICAgICAgICdodHRwczovL3tzfS50aWxlLm9wZW5zdHJlZXRtYXAub3JnL3t6fS97eH0ve3l9LnBuZycsCiAgICAgICAgewogICAgICAgICJhdHRyaWJ1dGlvbiI6IG51bGwsCiAgICAgICAgImRldGVjdFJldGluYSI6IGZhbHNlLAogICAgICAgICJtYXhOYXRpdmVab29tIjogMTgsCiAgICAgICAgIm1heFpvb20iOiAxOCwKICAgICAgICAibWluWm9vbSI6IDAsCiAgICAgICAgIm5vV3JhcCI6IGZhbHNlLAogICAgICAgICJvcGFjaXR5IjogMSwKICAgICAgICAic3ViZG9tYWlucyI6ICJhYmMiLAogICAgICAgICJ0bXMiOiBmYWxzZQp9KS5hZGRUbyhtYXBfNGMwMTMwMWIwMDI3NDdjM2EwMTI3OTBkODhkODE4ZTUpOwogICAgdmFyIHRpbGVfbGF5ZXJfYmJkMDZjMjJlOGYzNDI1ZDk2ZThiZWI3Y2U1NTUyNzkgPSBMLnRpbGVMYXllcigKICAgICAgICAnaHR0cHM6Ly9lYXJ0aGVuZ2luZS5nb29nbGVhcGlzLmNvbS9tYXAvcHJvamVjdHMvZWFydGhlbmdpbmUtbGVnYWN5L21hcHMvZjVlNmY5ZjVmYzEzMjRlMGI0NTRjYjUzZmI4NzBmNDgtZWFiMDZiMTRlNDgwNGE5NWViZGUxZDUxZTk5NmY3M2Ive3p9L3t4fS97eX0/dG9rZW49JywKICAgICAgICB7CiAgICAgICAgImF0dHJpYnV0aW9uIjogIkdvb2dsZSBFYXJ0aCBFbmdpbmUiLAogICAgICAgICJkZXRlY3RSZXRpbmEiOiBmYWxzZSwKICAgICAgICAibWF4TmF0aXZlWm9vbSI6IDE4LAogICAgICAgICJtYXhab29tIjogMTgsCiAgICAgICAgIm1pblpvb20iOiAwLAogICAgICAgICJub1dyYXAiOiBmYWxzZSwKICAgICAgICAib3BhY2l0eSI6IDEsCiAgICAgICAgInN1YmRvbWFpbnMiOiAiYWJjIiwKICAgICAgICAidG1zIjogZmFsc2UKfSkuYWRkVG8obWFwXzRjMDEzMDFiMDAyNzQ3YzNhMDEyNzkwZDg4ZDgxOGU1KTsKICAgIAogICAgICAgICAgICB2YXIgbGF5ZXJfY29udHJvbF8xZTc1Y2U2YTVjNjg0M2VmOWJkMDU1MDUwYTNkOWFlMCA9IHsKICAgICAgICAgICAgICAgIGJhc2VfbGF5ZXJzIDogeyAib3BlbnN0cmVldG1hcCIgOiB0aWxlX2xheWVyXzdmODlmZmUyNmI4NTQzMWNiZDgzYmM5NDdmZmFlNDI2LCB9LAogICAgICAgICAgICAgICAgb3ZlcmxheXMgOiB7ICJtZWRpYW4gY29tcG9zaXRlIiA6IHRpbGVfbGF5ZXJfYmJkMDZjMjJlOGYzNDI1ZDk2ZThiZWI3Y2U1NTUyNzksIH0KICAgICAgICAgICAgICAgIH07CiAgICAgICAgICAgIEwuY29udHJvbC5sYXllcnMoCiAgICAgICAgICAgICAgICBsYXllcl9jb250cm9sXzFlNzVjZTZhNWM2ODQzZWY5YmQwNTUwNTBhM2Q5YWUwLmJhc2VfbGF5ZXJzLAogICAgICAgICAgICAgICAgbGF5ZXJfY29udHJvbF8xZTc1Y2U2YTVjNjg0M2VmOWJkMDU1MDUwYTNkOWFlMC5vdmVybGF5cywKICAgICAgICAgICAgICAgIHtwb3NpdGlvbjogJ3RvcHJpZ2h0JywKICAgICAgICAgICAgICAgICBjb2xsYXBzZWQ6IHRydWUsCiAgICAgICAgICAgICAgICAgYXV0b1pJbmRleDogdHJ1ZQogICAgICAgICAgICAgICAgfSkuYWRkVG8obWFwXzRjMDEzMDFiMDAyNzQ3YzNhMDEyNzkwZDg4ZDgxOGU1KTsKICAgICAgICAgICAgCiAgICAgICAgCjwvc2NyaXB0Pg==\" style=\"position:absolute;width:100%;height:100%;left:0;top:0;border:none !important;\" allowfullscreen webkitallowfullscreen mozallowfullscreen></iframe></div></div>"
            ],
            "text/plain": [
              "<folium.folium.Map at 0x7faeba4aa9e8>"
            ]
          },
          "metadata": {
            "tags": []
          },
          "execution_count": 6
        }
      ]
    },
    {
      "cell_type": "markdown",
      "metadata": {
        "id": "WMtHpuWMENa8",
        "colab_type": "text"
      },
      "source": [
        "## Fundamental Earth Engine data structures\n",
        "\n",
        "The two most fundamental geographic data structures in Earth Engine are ```Image``` and ```Feature``` corresponding to raster and vector data types, respectively.  Images are composed of bands and a dictionary of properties.  Features are composed of a ```Geometry``` and a dictionary of properties.  A stack of images (e.g. an image time series) is handled by an ```ImageCollection```. A collection of features is handled by a ```FeatureCollection```.  Other fundamental data structures in Earth Engine include:\n",
        "*   ``Dictionary``\n",
        "*   ``List``\n",
        "*   ``Array``\n",
        "*   ``Geometry``\n",
        "*   ``Date``\n",
        "*   ``Number``\n",
        "*   ``String``\n",
        "\n",
        "It is important to remember that these are all server-side objects (or containers).  That is, your client browser does not know anything about the objects in your script unless you explicitly request information about them.  That request triggers a message being passed from Google to the Python API.  If the message is large, there will be a corresponding slow down.  Existing two ways to inspect Earth Engine containers in Python console.  The first one is ``print()`` that return the petition (as a JSON) to the server and ``*.getInfo()`` that returns the contents of the ``container``.  The next section summaries all the Data Structures mentioned above.\n",
        "\n",
        "\n",
        "\n",
        "\n",
        "\n",
        "\n"
      ]
    },
    {
      "cell_type": "markdown",
      "metadata": {
        "id": "kEu4chPWFgPS",
        "colab_type": "text"
      },
      "source": [
        "### Strings\n",
        "Define a Python string, then put it into the ```ee.String()``` container to be sent to Earth Engine:"
      ]
    },
    {
      "cell_type": "code",
      "metadata": {
        "id": "Etrul0YTFeUI",
        "colab_type": "code",
        "colab": {
          "base_uri": "https://localhost:8080/",
          "height": 52
        },
        "outputId": "06bceaee-ae87-44fb-e6d5-0920acb00b39"
      },
      "source": [
        "# Define a string, then put it into the EE container\n",
        "aString = 'To the cloud!'\n",
        "eeString = ee.String(aString)\n",
        "print('Where to?', eeString)\n",
        "eeString"
      ],
      "execution_count": 7,
      "outputs": [
        {
          "output_type": "stream",
          "text": [
            "Where to? ee.String(\"To the cloud!\")\n"
          ],
          "name": "stdout"
        },
        {
          "output_type": "execute_result",
          "data": {
            "text/plain": [
              "<ee.ee_string.String at 0x7faebba49ac8>"
            ]
          },
          "metadata": {
            "tags": []
          },
          "execution_count": 7
        }
      ]
    },
    {
      "cell_type": "markdown",
      "metadata": {
        "id": "JaM633Y8F2dR",
        "colab_type": "text"
      },
      "source": [
        "Think of ```ee.Thing``` as a container for a thing that exists on the server.  In this example, the string is defined first, then put into the container."
      ]
    },
    {
      "cell_type": "markdown",
      "metadata": {
        "id": "CdPCp5-kF9pz",
        "colab_type": "text"
      },
      "source": [
        "### Numbers\n",
        "Use ```ee.Number()``` to create number objects on the server."
      ]
    },
    {
      "cell_type": "code",
      "metadata": {
        "id": "zZed6n4vDFMK",
        "colab_type": "code",
        "colab": {
          "base_uri": "https://localhost:8080/",
          "height": 52
        },
        "outputId": "c1a98509-a356-4204-b79d-abe6e9afdd77"
      },
      "source": [
        "# Define a number that exists on the server.\n",
        "import numpy as np\n",
        "serverNumber = ee.Number(np.e)\n",
        "print('e=', serverNumber)\n",
        "serverNumber"
      ],
      "execution_count": 8,
      "outputs": [
        {
          "output_type": "stream",
          "text": [
            "e= ee.Number(2.718281828459045)\n"
          ],
          "name": "stdout"
        },
        {
          "output_type": "execute_result",
          "data": {
            "text/plain": [
              "<ee.ee_number.Number at 0x7faebb958320>"
            ]
          },
          "metadata": {
            "tags": []
          },
          "execution_count": 8
        }
      ]
    },
    {
      "cell_type": "markdown",
      "metadata": {
        "id": "xxNJXAp5GQai",
        "colab_type": "text"
      },
      "source": [
        "### Lists\n",
        "To make a Python list into an ```ee.List``` object on the server, you can put a Python literal into a container as with numbers and strings.  Earth Engine also provides server-side convenience methods for making sequences of numbers."
      ]
    },
    {
      "cell_type": "code",
      "metadata": {
        "id": "hUT4MVgdGFD5",
        "colab_type": "code",
        "colab": {
          "base_uri": "https://localhost:8080/",
          "height": 173
        },
        "outputId": "987dd3b6-8d58-4f97-a3a0-5da76d2ebfbd"
      },
      "source": [
        "# Make a sequence the hard way.\n",
        "eeList = ee.List([1, 2, 3, 4, 5])\n",
        "\n",
        "# Make a sequence the easy way!\n",
        "sequence = ee.List.sequence(1, 5);\n",
        "\n",
        "print('Sequence', sequence)\n",
        "print('Opening in the container:', sequence.getInfo())"
      ],
      "execution_count": 9,
      "outputs": [
        {
          "output_type": "stream",
          "text": [
            "Sequence ee.List({\n",
            "  \"type\": \"Invocation\",\n",
            "  \"arguments\": {\n",
            "    \"start\": 1,\n",
            "    \"end\": 5\n",
            "  },\n",
            "  \"functionName\": \"List.sequence\"\n",
            "})\n",
            "Opening in the container: [1, 2, 3, 4, 5]\n"
          ],
          "name": "stdout"
        }
      ]
    },
    {
      "cell_type": "markdown",
      "metadata": {
        "id": "dE8yQG9-GzAx",
        "colab_type": "text"
      },
      "source": [
        "### Dictionaries\n",
        "YOu can construct an Earth Engine ```Dictionary``` from a Python object, as with strings, numbers, and lists.  At construction time, you can use Python functionality to initialize the Earth Engine object.  In this case an ee.Dictionary is constructed directly from a Python literal object:"
      ]
    },
    {
      "cell_type": "code",
      "metadata": {
        "id": "t7H04rscGFHg",
        "colab_type": "code",
        "colab": {
          "base_uri": "https://localhost:8080/",
          "height": 87
        },
        "outputId": "7ac237dd-dfc6-4ca2-a2b9-8fa384b2fa57"
      },
      "source": [
        "dictionary = ee.Dictionary({\n",
        "    'e': np.e,\n",
        "    'pi': np.pi,\n",
        "    'phi': (1 + np.sqrt(5))/2\n",
        "})\n",
        "\n",
        "# Get some values from the dictionary\n",
        "print('Euler:', dictionary.get('e').getInfo())\n",
        "print('Pi:', dictionary.get('pi').getInfo())\n",
        "print('Golden ratio:', dictionary.get('phi').getInfo())\n",
        "\n",
        "# Get all the keys\n",
        "print('Keys: ', dictionary.keys().getInfo())"
      ],
      "execution_count": 10,
      "outputs": [
        {
          "output_type": "stream",
          "text": [
            "Euler: 2.718281828459045\n",
            "Pi: 3.141592653589793\n",
            "Golden ratio: 1.618033988749895\n",
            "Keys:  ['e', 'phi', 'pi']\n"
          ],
          "name": "stdout"
        }
      ]
    },
    {
      "cell_type": "markdown",
      "metadata": {
        "id": "eMPdqHuEHk_L",
        "colab_type": "text"
      },
      "source": [
        "## Dates\n",
        "Date objects are the way Earth Engine represents time. As in the previou examples, it is improtant to distinguish between a Python Date object and an Earth Engine ```ee.Date``` object.  \n",
        "\n",
        "A date object can be construct from:\n",
        "*   A string.\n",
        "*   Python datetime object.\n",
        "*   Static methods provided by the ee.Date class.\n",
        "\n",
        "The next examples illustrates the construction of dates from these three forms.   "
      ]
    },
    {
      "cell_type": "code",
      "metadata": {
        "id": "G5LY-BhCHgBI",
        "colab_type": "code",
        "colab": {
          "base_uri": "https://localhost:8080/",
          "height": 156
        },
        "outputId": "274efab5-e580-43f0-f35e-3c80c2bf7a4c"
      },
      "source": [
        "# Define a date in Earth Engine.\n",
        "date = ee.Date('2015-12-31')\n",
        "print('Date:', date)\n",
        "print('Date:', date.getInfo())"
      ],
      "execution_count": 11,
      "outputs": [
        {
          "output_type": "stream",
          "text": [
            "Date: ee.Date({\n",
            "  \"type\": \"Invocation\",\n",
            "  \"arguments\": {\n",
            "    \"value\": \"2015-12-31\"\n",
            "  },\n",
            "  \"functionName\": \"Date\"\n",
            "})\n",
            "Date: {'type': 'Date', 'value': 1451520000000}\n"
          ],
          "name": "stdout"
        }
      ]
    },
    {
      "cell_type": "markdown",
      "metadata": {
        "id": "1GcaRHxNIHB4",
        "colab_type": "text"
      },
      "source": [
        "In earth engine the date is representing with timestamps since midnight on January 1, 1970 considering an in milliseconds timestep."
      ]
    },
    {
      "cell_type": "code",
      "metadata": {
        "id": "bwSFtKVUHgNa",
        "colab_type": "code",
        "colab": {
          "base_uri": "https://localhost:8080/",
          "height": 156
        },
        "outputId": "2c52fe02-2b72-4866-a248-76be00fd9966"
      },
      "source": [
        "# Get the current time using the javascript date.now() method.\n",
        "import datetime as dt\n",
        "now = dt.datetime.now()\n",
        "print('milliseconds since January 1, 1970', now)\n",
        "\n",
        "# Initialize an ee.Date object.\n",
        "eeNow = ee.Date(now)\n",
        "print('Now:', eeNow)"
      ],
      "execution_count": 12,
      "outputs": [
        {
          "output_type": "stream",
          "text": [
            "milliseconds since January 1, 1970 2020-03-05 05:24:59.366450\n",
            "Now: ee.Date({\n",
            "  \"type\": \"Invocation\",\n",
            "  \"arguments\": {\n",
            "    \"value\": 1583385899366\n",
            "  },\n",
            "  \"functionName\": \"Date\"\n",
            "})\n"
          ],
          "name": "stdout"
        }
      ]
    },
    {
      "cell_type": "markdown",
      "metadata": {
        "id": "f9vwNw1ZIhca",
        "colab_type": "text"
      },
      "source": [
        "Arguments to Earth Engine methods can be passed in order, for example to create an ``ee.Date`` from year, month, and day, you can pass paremeters of the ``fromYMD()`` static method in the order year, month, day:"
      ]
    },
    {
      "cell_type": "code",
      "metadata": {
        "id": "LN29XOZuIqYD",
        "colab_type": "code",
        "colab": {
          "base_uri": "https://localhost:8080/",
          "height": 173
        },
        "outputId": "af138a7b-d39d-4f80-b6c0-161805d1413c"
      },
      "source": [
        "aDate = ee.Date.fromYMD(2017, 1, 13)\n",
        "print('aDate:', aDate)"
      ],
      "execution_count": 13,
      "outputs": [
        {
          "output_type": "stream",
          "text": [
            "aDate: ee.Date({\n",
            "  \"type\": \"Invocation\",\n",
            "  \"arguments\": {\n",
            "    \"year\": 2017,\n",
            "    \"month\": 1,\n",
            "    \"day\": 13\n",
            "  },\n",
            "  \"functionName\": \"Date.fromYMD\"\n",
            "})\n"
          ],
          "name": "stdout"
        }
      ]
    },
    {
      "cell_type": "code",
      "metadata": {
        "id": "SsG9lSCMJS1T",
        "colab_type": "code",
        "colab": {}
      },
      "source": [
        ""
      ],
      "execution_count": 0,
      "outputs": []
    },
    {
      "cell_type": "markdown",
      "metadata": {
        "id": "u_pN-bOJIzwl",
        "colab_type": "text"
      },
      "source": [
        "# Next up, image searches.  \n",
        "Here's the link for this section:\n",
        "https://colab.research.google.com/github/csaybar/EEwPython/blob/dev/2_eeImage.ipynb\n",
        "\n",
        "And here's a link to the table of contents of the series:\n",
        "https://colab.research.google.com/github/csaybar/EEwPython/blob/dev/index.ipynb#scrollTo=jgutoC1MiMML"
      ]
    }
  ]
}