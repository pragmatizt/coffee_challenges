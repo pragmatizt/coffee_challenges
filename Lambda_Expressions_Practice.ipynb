{
  "nbformat": 4,
  "nbformat_minor": 0,
  "metadata": {
    "colab": {
      "name": "Lambda_Expressions_Practice.ipynb",
      "provenance": [],
      "include_colab_link": true
    },
    "kernelspec": {
      "name": "python3",
      "display_name": "Python 3"
    }
  },
  "cells": [
    {
      "cell_type": "markdown",
      "metadata": {
        "id": "view-in-github",
        "colab_type": "text"
      },
      "source": [
        "<a href=\"https://colab.research.google.com/github/pragmatizt/coffee_challenges/blob/master/Lambda_Expressions_Practice.ipynb\" target=\"_parent\"><img src=\"https://colab.research.google.com/assets/colab-badge.svg\" alt=\"Open In Colab\"/></a>"
      ]
    },
    {
      "cell_type": "code",
      "metadata": {
        "id": "uW6iPFDHOkWu",
        "colab_type": "code",
        "colab": {}
      },
      "source": [
        "# Anonymous Functions = Lambda Expressions"
      ],
      "execution_count": 0,
      "outputs": []
    },
    {
      "cell_type": "code",
      "metadata": {
        "id": "GCqusIbzOarl",
        "colab_type": "code",
        "colab": {}
      },
      "source": [
        "def f(x):\n",
        "  return 3*x + 1"
      ],
      "execution_count": 0,
      "outputs": []
    },
    {
      "cell_type": "code",
      "metadata": {
        "id": "6QKEQU_cOgSX",
        "colab_type": "code",
        "colab": {
          "base_uri": "https://localhost:8080/",
          "height": 34
        },
        "outputId": "25de9d09-89fa-45c6-cc44-19daa4b7d9aa"
      },
      "source": [
        "f(2)"
      ],
      "execution_count": 2,
      "outputs": [
        {
          "output_type": "execute_result",
          "data": {
            "text/plain": [
              "7"
            ]
          },
          "metadata": {
            "tags": []
          },
          "execution_count": 2
        }
      ]
    },
    {
      "cell_type": "code",
      "metadata": {
        "id": "_mACCtfeOpAF",
        "colab_type": "code",
        "colab": {
          "base_uri": "https://localhost:8080/",
          "height": 34
        },
        "outputId": "ae0f5cf4-f2fb-4a4b-d0d8-d0965e9e677f"
      },
      "source": [
        "lambda x: 3*x + 1"
      ],
      "execution_count": 3,
      "outputs": [
        {
          "output_type": "execute_result",
          "data": {
            "text/plain": [
              "<function __main__.<lambda>>"
            ]
          },
          "metadata": {
            "tags": []
          },
          "execution_count": 3
        }
      ]
    },
    {
      "cell_type": "markdown",
      "metadata": {
        "id": "3-pcAGxWPFXK",
        "colab_type": "text"
      },
      "source": [
        "Lambda is not the name of the function.  It is a python keyword that says that what follows is an anonymous function.     "
      ]
    },
    {
      "cell_type": "code",
      "metadata": {
        "id": "COC5y9J_Oo9S",
        "colab_type": "code",
        "colab": {}
      },
      "source": [
        "g = lambda x: 3*x + 1"
      ],
      "execution_count": 0,
      "outputs": []
    },
    {
      "cell_type": "code",
      "metadata": {
        "id": "GCemc87lOo54",
        "colab_type": "code",
        "colab": {
          "base_uri": "https://localhost:8080/",
          "height": 34
        },
        "outputId": "673a4698-546c-4fdb-e214-a4c90c3eee69"
      },
      "source": [
        "g"
      ],
      "execution_count": 5,
      "outputs": [
        {
          "output_type": "execute_result",
          "data": {
            "text/plain": [
              "<function __main__.<lambda>>"
            ]
          },
          "metadata": {
            "tags": []
          },
          "execution_count": 5
        }
      ]
    },
    {
      "cell_type": "code",
      "metadata": {
        "id": "5S1HwZgCO5F8",
        "colab_type": "code",
        "colab": {
          "base_uri": "https://localhost:8080/",
          "height": 34
        },
        "outputId": "a8326734-95d8-4e9a-dd02-4bc7beef117b"
      },
      "source": [
        "g(2)"
      ],
      "execution_count": 8,
      "outputs": [
        {
          "output_type": "execute_result",
          "data": {
            "text/plain": [
              "7"
            ]
          },
          "metadata": {
            "tags": []
          },
          "execution_count": 8
        }
      ]
    },
    {
      "cell_type": "code",
      "metadata": {
        "id": "0kJVfDmsPZbt",
        "colab_type": "code",
        "colab": {
          "base_uri": "https://localhost:8080/",
          "height": 34
        },
        "outputId": "ea0ac255-620f-4a83-f7cb-653026809b19"
      },
      "source": [
        "# combine first name and last name into a single \"Full Name\"\n",
        "full_name = lambda fn, ln: fn.strip().title() + \" \" + ln.strip().title()\n",
        "full_name(\"   leonhard\", \"EULER\")\n"
      ],
      "execution_count": 9,
      "outputs": [
        {
          "output_type": "execute_result",
          "data": {
            "text/plain": [
              "'Leonhard Euler'"
            ]
          },
          "metadata": {
            "tags": []
          },
          "execution_count": 9
        }
      ]
    },
    {
      "cell_type": "code",
      "metadata": {
        "id": "cxid_u4BPZWI",
        "colab_type": "code",
        "colab": {
          "base_uri": "https://localhost:8080/",
          "height": 105
        },
        "outputId": "b89268a5-3f0a-4e5b-91b4-7c0b2c37c376"
      },
      "source": [
        "# Another example, sorting by last names.\n",
        "scifi_authors = [\"Isaac Asimov\", \"Ray Bradbury\", \"Robert Heinlein\", \"Arthur C. Clarke\",\n",
        "                 \"Frank Herbert\", \"Orson Scott Card\", \"Douglas Adams\", \"H. G. Wells\",\n",
        "                 \"Leigh Brackett\"]\n",
        "\n",
        "help(scifi_authors.sort)          "
      ],
      "execution_count": 10,
      "outputs": [
        {
          "output_type": "stream",
          "text": [
            "Help on built-in function sort:\n",
            "\n",
            "sort(...) method of builtins.list instance\n",
            "    L.sort(key=None, reverse=False) -> None -- stable sort *IN PLACE*\n",
            "\n"
          ],
          "name": "stdout"
        }
      ]
    },
    {
      "cell_type": "code",
      "metadata": {
        "id": "EayRQW1tQZ9X",
        "colab_type": "code",
        "colab": {
          "base_uri": "https://localhost:8080/",
          "height": 175
        },
        "outputId": "12b74f9c-a4e7-4de5-9cc1-3b1e430b4bf5"
      },
      "source": [
        "scifi_authors.sort(key= lambda name: name.split(\" \")[-1].lower())\n",
        "scifi_authors"
      ],
      "execution_count": 13,
      "outputs": [
        {
          "output_type": "execute_result",
          "data": {
            "text/plain": [
              "['Douglas Adams',\n",
              " 'Isaac Asimov',\n",
              " 'Leigh Brackett',\n",
              " 'Ray Bradbury',\n",
              " 'Orson Scott Card',\n",
              " 'Arthur C. Clarke',\n",
              " 'Robert Heinlein',\n",
              " 'Frank Herbert',\n",
              " 'H. G. Wells']"
            ]
          },
          "metadata": {
            "tags": []
          },
          "execution_count": 13
        }
      ]
    },
    {
      "cell_type": "code",
      "metadata": {
        "id": "UOTPpsXEQrO7",
        "colab_type": "code",
        "colab": {}
      },
      "source": [
        "# Another example, with a quadratic function.\n",
        "def build_quadratic_function(a, b, c):\n",
        "  \"\"\" Returns the function f(x) = ax^2 + bx + c\"\"\"\n",
        "  return lambda x: a*x**2 + b*x + c"
      ],
      "execution_count": 0,
      "outputs": []
    },
    {
      "cell_type": "code",
      "metadata": {
        "id": "Q_8UisTNQ9B7",
        "colab_type": "code",
        "colab": {
          "base_uri": "https://localhost:8080/",
          "height": 34
        },
        "outputId": "3a4378b6-cbea-4f28-d2a4-9d60cc406fd7"
      },
      "source": [
        "f = build_quadratic_function(2, 3, -5)\n",
        "f(0)"
      ],
      "execution_count": 18,
      "outputs": [
        {
          "output_type": "execute_result",
          "data": {
            "text/plain": [
              "-5"
            ]
          },
          "metadata": {
            "tags": []
          },
          "execution_count": 18
        }
      ]
    },
    {
      "cell_type": "code",
      "metadata": {
        "id": "dbwrQKWeRD3v",
        "colab_type": "code",
        "colab": {
          "base_uri": "https://localhost:8080/",
          "height": 34
        },
        "outputId": "8cae2818-cc39-4842-9990-4746f61d41ce"
      },
      "source": [
        "f(1)"
      ],
      "execution_count": 19,
      "outputs": [
        {
          "output_type": "execute_result",
          "data": {
            "text/plain": [
              "0"
            ]
          },
          "metadata": {
            "tags": []
          },
          "execution_count": 19
        }
      ]
    },
    {
      "cell_type": "code",
      "metadata": {
        "id": "AQ_d_hceRDzp",
        "colab_type": "code",
        "colab": {
          "base_uri": "https://localhost:8080/",
          "height": 34
        },
        "outputId": "7942f81c-4cef-48cb-9dae-310e4e1c4c5a"
      },
      "source": [
        "f(2)"
      ],
      "execution_count": 21,
      "outputs": [
        {
          "output_type": "execute_result",
          "data": {
            "text/plain": [
              "9"
            ]
          },
          "metadata": {
            "tags": []
          },
          "execution_count": 21
        }
      ]
    },
    {
      "cell_type": "code",
      "metadata": {
        "id": "D543TPuMRHRy",
        "colab_type": "code",
        "colab": {
          "base_uri": "https://localhost:8080/",
          "height": 34
        },
        "outputId": "872868ac-1ee3-47eb-91b5-ce24ad3c9800"
      },
      "source": [
        "build_quadratic_function(3, 0, 1)(2) # 3x^2+1 evaluated for x=2"
      ],
      "execution_count": 22,
      "outputs": [
        {
          "output_type": "execute_result",
          "data": {
            "text/plain": [
              "13"
            ]
          },
          "metadata": {
            "tags": []
          },
          "execution_count": 22
        }
      ]
    },
    {
      "cell_type": "markdown",
      "metadata": {
        "id": "pzpiZGI7RWy5",
        "colab_type": "text"
      },
      "source": [
        "Lambda Expressions!"
      ]
    }
  ]
}