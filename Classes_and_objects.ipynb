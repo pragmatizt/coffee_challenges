{
  "nbformat": 4,
  "nbformat_minor": 0,
  "metadata": {
    "colab": {
      "name": "Classes_and_objects.ipynb",
      "provenance": [],
      "include_colab_link": true
    },
    "kernelspec": {
      "name": "python3",
      "display_name": "Python 3"
    }
  },
  "cells": [
    {
      "cell_type": "markdown",
      "metadata": {
        "id": "view-in-github",
        "colab_type": "text"
      },
      "source": [
        "<a href=\"https://colab.research.google.com/github/pragmatizt/coffee_challenges/blob/master/Classes_and_objects.ipynb\" target=\"_parent\"><img src=\"https://colab.research.google.com/assets/colab-badge.svg\" alt=\"Open In Colab\"/></a>"
      ]
    },
    {
      "cell_type": "markdown",
      "metadata": {
        "id": "GcMEGtemVPpy",
        "colab_type": "text"
      },
      "source": [
        "# Python Classes and Objects\n",
        "A quick follow along of Socratica's Classes and Objects tutorial.\n",
        "\n",
        "Link [here](https://www.youtube.com/watch?v=apACNr7DC_s&list=PLi01XoE8jYohWFPpC17Z-wWhPOSuh8Er-&index=24&t=0s)\n"
      ]
    },
    {
      "cell_type": "code",
      "metadata": {
        "id": "NNhFfR4-Zhw5",
        "colab_type": "code",
        "colab": {}
      },
      "source": [
        "import datetime\n",
        "# will use this for example later"
      ],
      "execution_count": 0,
      "outputs": []
    },
    {
      "cell_type": "code",
      "metadata": {
        "id": "Zi8u6fKrU3M4",
        "colab_type": "code",
        "colab": {}
      },
      "source": [
        "class User:\n",
        "  pass\n",
        "\n",
        "# pass is a way to pass in a class that does nothing\n",
        "# when defining a class, you need at least one line"
      ],
      "execution_count": 0,
      "outputs": []
    },
    {
      "cell_type": "code",
      "metadata": {
        "id": "HBOQQVFSVjuC",
        "colab_type": "code",
        "colab": {
          "base_uri": "https://localhost:8080/",
          "height": 34
        },
        "outputId": "cd0e4220-75a7-4436-8830-d745793a1a0f"
      },
      "source": [
        "user1 = User()\n",
        "user1.first_name = \"Dave\"\n",
        "user1.last_name = \"Bowman\"\n",
        "\n",
        "print(user1.first_name)\n",
        "# user1 is an \"instance\" of User\n",
        "# user1 is also an object"
      ],
      "execution_count": 2,
      "outputs": [
        {
          "output_type": "stream",
          "text": [
            "Dave\n"
          ],
          "name": "stdout"
        }
      ]
    },
    {
      "cell_type": "code",
      "metadata": {
        "id": "Sefpps14V2-5",
        "colab_type": "code",
        "colab": {
          "base_uri": "https://localhost:8080/",
          "height": 34
        },
        "outputId": "d8520b60-9404-41d7-8eac-23f77f1409ca"
      },
      "source": [
        "print(user1.last_name)"
      ],
      "execution_count": 3,
      "outputs": [
        {
          "output_type": "stream",
          "text": [
            "Bowman\n"
          ],
          "name": "stdout"
        }
      ]
    },
    {
      "cell_type": "code",
      "metadata": {
        "id": "URwSLgVPV7Gv",
        "colab_type": "code",
        "colab": {
          "base_uri": "https://localhost:8080/",
          "height": 34
        },
        "outputId": "0e064980-9fa2-4336-e5ba-01d72c0b1f7a"
      },
      "source": [
        "# let's create standalone variables not attached to a user object\n",
        "first_name = \"Arthur\"\n",
        "last_name = \"Clarke\"\n",
        "\n",
        "print(first_name, last_name)"
      ],
      "execution_count": 4,
      "outputs": [
        {
          "output_type": "stream",
          "text": [
            "Arthur Clarke\n"
          ],
          "name": "stdout"
        }
      ]
    },
    {
      "cell_type": "code",
      "metadata": {
        "id": "bqYyJ13AV7Cn",
        "colab_type": "code",
        "colab": {
          "base_uri": "https://localhost:8080/",
          "height": 34
        },
        "outputId": "b5d32b5d-7dff-4629-e9a0-0b3d330dfc56"
      },
      "source": [
        "# Even though we use the same variable names, the values are kept separate\n",
        "# with classes, there's no limit to the number of objects we can make.\n",
        "print(user1.first_name, user1.last_name)"
      ],
      "execution_count": 5,
      "outputs": [
        {
          "output_type": "stream",
          "text": [
            "Dave Bowman\n"
          ],
          "name": "stdout"
        }
      ]
    },
    {
      "cell_type": "code",
      "metadata": {
        "id": "Ogm_bnHNWQwU",
        "colab_type": "code",
        "colab": {
          "base_uri": "https://localhost:8080/",
          "height": 34
        },
        "outputId": "be523ad2-7083-40c1-f13e-f431e5e6904b"
      },
      "source": [
        "user2 = User()\n",
        "user2.first_name = \"Frank\"\n",
        "user2.last_name = \"Poole\"\n",
        "\n",
        "print(first_name, last_name)\n",
        "# notice it's still Arthur Clarke"
      ],
      "execution_count": 6,
      "outputs": [
        {
          "output_type": "stream",
          "text": [
            "Arthur Clarke\n"
          ],
          "name": "stdout"
        }
      ]
    },
    {
      "cell_type": "code",
      "metadata": {
        "id": "BTth7XfGWZZj",
        "colab_type": "code",
        "colab": {
          "base_uri": "https://localhost:8080/",
          "height": 34
        },
        "outputId": "359b5139-e7c2-40eb-ef7a-c85e23def35d"
      },
      "source": [
        "print(user1.first_name, user1.last_name)"
      ],
      "execution_count": 7,
      "outputs": [
        {
          "output_type": "stream",
          "text": [
            "Dave Bowman\n"
          ],
          "name": "stdout"
        }
      ]
    },
    {
      "cell_type": "code",
      "metadata": {
        "id": "Nyp5nEauWdoG",
        "colab_type": "code",
        "colab": {
          "base_uri": "https://localhost:8080/",
          "height": 34
        },
        "outputId": "d9318668-9c4c-49e1-cc80-0cc336f4f8c4"
      },
      "source": [
        "print(user2.first_name, user2.last_name)"
      ],
      "execution_count": 8,
      "outputs": [
        {
          "output_type": "stream",
          "text": [
            "Frank Poole\n"
          ],
          "name": "stdout"
        }
      ]
    },
    {
      "cell_type": "markdown",
      "metadata": {
        "id": "k5MCWiq5WlSv",
        "colab_type": "text"
      },
      "source": [
        "# Let's add a layer of complexity"
      ]
    },
    {
      "cell_type": "code",
      "metadata": {
        "id": "11b2yMuLWg2B",
        "colab_type": "code",
        "colab": {
          "base_uri": "https://localhost:8080/",
          "height": 34
        },
        "outputId": "a196fa7b-75e5-44d0-e925-60de1631b8bd"
      },
      "source": [
        "user1.age = 37\n",
        "user2.favorite_book = \"2001: A Space Odyssey\"\n",
        "\n",
        "print(user1.age)"
      ],
      "execution_count": 9,
      "outputs": [
        {
          "output_type": "stream",
          "text": [
            "37\n"
          ],
          "name": "stdout"
        }
      ]
    },
    {
      "cell_type": "code",
      "metadata": {
        "id": "0aieofdNW0LC",
        "colab_type": "code",
        "colab": {}
      },
      "source": [
        "# look what happens when we try to print age of user2\n",
        "#print(user2.age)\n",
        "# you get an error. "
      ],
      "execution_count": 0,
      "outputs": []
    },
    {
      "cell_type": "markdown",
      "metadata": {
        "id": "BMs-bQLeW-Kp",
        "colab_type": "text"
      },
      "source": [
        "## Why go through problems of OOP...\n",
        " when we could just as easily stored data in a dictionary?"
      ]
    },
    {
      "cell_type": "markdown",
      "metadata": {
        "id": "YmWxNx8aXPqy",
        "colab_type": "text"
      },
      "source": [
        "Class Features allow us to transcend dictionary limitations:\n",
        "\n",
        "\n",
        "*   Methods\n",
        "*   Initialization\n",
        "*   Help Text\n",
        "\n"
      ]
    },
    {
      "cell_type": "code",
      "metadata": {
        "id": "27_xIAcGW4sP",
        "colab_type": "code",
        "colab": {
          "base_uri": "https://localhost:8080/",
          "height": 34
        },
        "outputId": "38ccd453-8b60-4151-bc30-237ac52aa136"
      },
      "source": [
        "class User:\n",
        "  \"\"\"A member of FriednFace. For now we are only storing their name and \n",
        "  birthday. But soon we will store an uncomfortable amount of user \n",
        "  information.\"\"\" \n",
        "\n",
        "  def __init__(self, full_name, birthday):\n",
        "    self.name = full_name\n",
        "    self.birthday = birthday\n",
        "\n",
        "    # Extract first and last names\n",
        "    name_pieces = full_name.split(\" \")\n",
        "    self.first_name = name_pieces[0]\n",
        "    self.last_name = name_pieces[-1]\n",
        "\n",
        "  def age(self):\n",
        "    \"\"\"Return the age of the user in years.\"\"\"\n",
        "    today = datetime.date(2001, 5, 12)\n",
        "    yyyy = int(self.birthday[0:4])\n",
        "    mm = int(self.birthday[4:6])\n",
        "    dd = int(self.birthday[6:8])\n",
        "    dob = datetime.date(yyyy, mm, dd) # Date of birth\n",
        "    age_in_days = (today - dob).days  # this is a time delta object\n",
        "    age_in_years = age_in_days / 365\n",
        "    return int(age_in_years)\n",
        "\n",
        "\"\"\"\n",
        "after the self. is the field.  know to separate value from field\n",
        "\"\"\""
      ],
      "execution_count": 20,
      "outputs": [
        {
          "output_type": "execute_result",
          "data": {
            "text/plain": [
              "'\\nafter the self. is the field.  know to separate value from field\\n'"
            ]
          },
          "metadata": {
            "tags": []
          },
          "execution_count": 20
        }
      ]
    },
    {
      "cell_type": "code",
      "metadata": {
        "id": "kGMTkuOPYq0c",
        "colab_type": "code",
        "colab": {}
      },
      "source": [
        "# Just testing along:\n",
        "user = User(\"Dave Bowman\", \"19710315\")\n"
      ],
      "execution_count": 0,
      "outputs": []
    },
    {
      "cell_type": "code",
      "metadata": {
        "id": "DS5rF8RFZMiV",
        "colab_type": "code",
        "colab": {
          "base_uri": "https://localhost:8080/",
          "height": 34
        },
        "outputId": "aeb385cd-a845-4564-87cc-398812f2c195"
      },
      "source": [
        "print(user.age())\n",
        "\n",
        "# notice we don't type \"self\" when calling the age method, the self"
      ],
      "execution_count": 24,
      "outputs": [
        {
          "output_type": "stream",
          "text": [
            "30\n"
          ],
          "name": "stdout"
        }
      ]
    },
    {
      "cell_type": "code",
      "metadata": {
        "id": "DeXLUTAGX1cc",
        "colab_type": "code",
        "colab": {
          "base_uri": "https://localhost:8080/",
          "height": 52
        },
        "outputId": "9412b925-3e41-4ed1-d645-37523561b6b0"
      },
      "source": [
        "print(user.name)\n",
        "print(user.birthday)"
      ],
      "execution_count": 13,
      "outputs": [
        {
          "output_type": "stream",
          "text": [
            "Dave Bowman\n",
            "19710315\n"
          ],
          "name": "stdout"
        }
      ]
    }
  ]
}