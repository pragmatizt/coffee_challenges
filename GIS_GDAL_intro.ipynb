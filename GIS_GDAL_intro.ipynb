{
  "nbformat": 4,
  "nbformat_minor": 0,
  "metadata": {
    "colab": {
      "name": "GIS_GDAL_intro.ipynb",
      "provenance": [],
      "authorship_tag": "ABX9TyM3/gjzZFRam7S8fvG7gTx5",
      "include_colab_link": true
    },
    "kernelspec": {
      "name": "python3",
      "display_name": "Python 3"
    }
  },
  "cells": [
    {
      "cell_type": "markdown",
      "metadata": {
        "id": "view-in-github",
        "colab_type": "text"
      },
      "source": [
        "<a href=\"https://colab.research.google.com/github/pragmatizt/coffee_challenges/blob/master/GIS_GDAL_intro.ipynb\" target=\"_parent\"><img src=\"https://colab.research.google.com/assets/colab-badge.svg\" alt=\"Open In Colab\"/></a>"
      ]
    },
    {
      "cell_type": "markdown",
      "metadata": {
        "id": "AqpLcb_S377U",
        "colab_type": "text"
      },
      "source": [
        "# GIS GDAL Tutorial\n",
        "This tutorial was found on http://www.acgeospatial.co.uk/colaboratory-notebooks-and-gdal/"
      ]
    },
    {
      "cell_type": "code",
      "metadata": {
        "id": "rH4PqNy53ob8",
        "colab_type": "code",
        "colab": {
          "base_uri": "https://localhost:8080/",
          "height": 81
        },
        "outputId": "34be3862-9168-43fa-dc4d-334f8ef98f54"
      },
      "source": [
        "# Necessary Imports\n",
        "import tensorflow as tf\n",
        "import numpy as np"
      ],
      "execution_count": 1,
      "outputs": [
        {
          "output_type": "display_data",
          "data": {
            "text/html": [
              "<p style=\"color: red;\">\n",
              "The default version of TensorFlow in Colab will soon switch to TensorFlow 2.x.<br>\n",
              "We recommend you <a href=\"https://www.tensorflow.org/guide/migrate\" target=\"_blank\">upgrade</a> now \n",
              "or ensure your notebook will continue to use TensorFlow 1.x via the <code>%tensorflow_version 1.x</code> magic:\n",
              "<a href=\"https://colab.research.google.com/notebooks/tensorflow_version.ipynb\" target=\"_blank\">more info</a>.</p>\n"
            ],
            "text/plain": [
              "<IPython.core.display.HTML object>"
            ]
          },
          "metadata": {
            "tags": []
          }
        }
      ]
    },
    {
      "cell_type": "code",
      "metadata": {
        "id": "lFPp2SgB4Wlj",
        "colab_type": "code",
        "colab": {
          "base_uri": "https://localhost:8080/",
          "height": 52
        },
        "outputId": "a07f9f30-077c-4d3c-dc9a-8749726cb3dd"
      },
      "source": [
        "with tf.Session():\n",
        "  input1 = tf.constant(1.0, shape=[2, 3])\n",
        "  input2 = tf.constant(np.reshape(np.arange(1.0, 7.0, dtype=np.float32), (2,3)))\n",
        "  output = tf.add(input1, input2)\n",
        "  result = output.eval()\n",
        "\n",
        "result"
      ],
      "execution_count": 2,
      "outputs": [
        {
          "output_type": "execute_result",
          "data": {
            "text/plain": [
              "array([[2., 3., 4.],\n",
              "       [5., 6., 7.]], dtype=float32)"
            ]
          },
          "metadata": {
            "tags": []
          },
          "execution_count": 2
        }
      ]
    },
    {
      "cell_type": "markdown",
      "metadata": {
        "id": "DvI8tr4_4vt-",
        "colab_type": "text"
      },
      "source": [
        "Now let's install GDAL on this colab notebook."
      ]
    },
    {
      "cell_type": "code",
      "metadata": {
        "id": "HmaEguCx5puf",
        "colab_type": "code",
        "colab": {
          "base_uri": "https://localhost:8080/",
          "height": 297
        },
        "outputId": "656d6c85-0807-486d-af96-80371980232d"
      },
      "source": [
        "!apt update"
      ],
      "execution_count": 8,
      "outputs": [
        {
          "output_type": "stream",
          "text": [
            "\u001b[33m\r0% [Working]\u001b[0m\r            \rHit:1 https://cloud.r-project.org/bin/linux/ubuntu bionic-cran35/ InRelease\n",
            "\u001b[33m\r0% [Connecting to archive.ubuntu.com] [Connecting to security.ubuntu.com] [Wait\u001b[0m\u001b[33m\r0% [1 InRelease gpgv 3,626 B] [Connecting to archive.ubuntu.com] [Connecting to\u001b[0m\r                                                                               \rIgn:2 https://developer.download.nvidia.com/compute/cuda/repos/ubuntu1804/x86_64  InRelease\n",
            "\u001b[33m\r0% [1 InRelease gpgv 3,626 B] [Connecting to archive.ubuntu.com] [Connecting to\u001b[0m\u001b[33m\r0% [Connecting to archive.ubuntu.com (91.189.88.173)] [Connecting to security.u\u001b[0m\r                                                                               \rIgn:3 https://developer.download.nvidia.com/compute/machine-learning/repos/ubuntu1804/x86_64  InRelease\n",
            "\u001b[33m\r0% [Connecting to archive.ubuntu.com (91.189.88.173)] [Connecting to security.u\u001b[0m\r                                                                               \rHit:4 https://developer.download.nvidia.com/compute/cuda/repos/ubuntu1804/x86_64  Release\n",
            "\u001b[33m\r0% [Connecting to archive.ubuntu.com (91.189.88.173)] [Connecting to security.u\u001b[0m\u001b[33m\r0% [Release.gpg gpgv 564 B] [Connecting to archive.ubuntu.com (91.189.88.173)] \u001b[0m\r                                                                               \rHit:5 https://developer.download.nvidia.com/compute/machine-learning/repos/ubuntu1804/x86_64  Release\n",
            "\u001b[33m\r0% [Release.gpg gpgv 564 B] [Connecting to archive.ubuntu.com (91.189.88.173)] \u001b[0m\r                                                                               \rHit:6 http://ppa.launchpad.net/graphics-drivers/ppa/ubuntu bionic InRelease\n",
            "\u001b[33m\r0% [Release.gpg gpgv 564 B] [Connecting to archive.ubuntu.com (91.189.88.149)] \u001b[0m\u001b[33m\r0% [Waiting for headers] [Waiting for headers] [Connecting to ppa.launchpad.net\u001b[0m\u001b[33m\r0% [Release.gpg gpgv 564 B] [Waiting for headers] [Waiting for headers] [Connec\u001b[0m\r                                                                               \rHit:8 http://security.ubuntu.com/ubuntu bionic-security InRelease\n",
            "\u001b[33m\r0% [Release.gpg gpgv 564 B] [Waiting for headers] [Connecting to ppa.launchpad.\u001b[0m\r                                                                               \rHit:9 http://archive.ubuntu.com/ubuntu bionic InRelease\n",
            "\u001b[33m\r                                                                               \r0% [Release.gpg gpgv 564 B] [Waiting for headers]\u001b[0m\u001b[33m\r                                                 \r0% [Waiting for headers] [Waiting for headers]\u001b[0m\u001b[33m\r0% [6 InRelease gpgv 21.3 kB] [Waiting for headers] [Waiting for headers]\u001b[0m\u001b[33m\r                                                                         \r0% [Waiting for headers] [Waiting for headers]\u001b[0m\u001b[33m\r0% [8 InRelease gpgv 88.7 kB] [Waiting for headers] [Waiting for headers]\u001b[0m\r                                                                         \rHit:11 http://ppa.launchpad.net/marutter/c2d4u3.5/ubuntu bionic InRelease\n",
            "Hit:12 http://archive.ubuntu.com/ubuntu bionic-updates InRelease\n",
            "Hit:13 http://archive.ubuntu.com/ubuntu bionic-backports InRelease\n",
            "Reading package lists... Done\n",
            "Building dependency tree       \n",
            "Reading state information... Done\n",
            "93 packages can be upgraded. Run 'apt list --upgradable' to see them.\n"
          ],
          "name": "stdout"
        }
      ]
    },
    {
      "cell_type": "code",
      "metadata": {
        "id": "obIvNf6R5pr7",
        "colab_type": "code",
        "colab": {
          "base_uri": "https://localhost:8080/",
          "height": 1000
        },
        "outputId": "bedecc61-e2ab-470e-8cf5-50fed091b985"
      },
      "source": [
        "!apt upgrade"
      ],
      "execution_count": 9,
      "outputs": [
        {
          "output_type": "stream",
          "text": [
            "Reading package lists... Done\n",
            "Building dependency tree       \n",
            "Reading state information... Done\n",
            "Calculating upgrade... Done\n",
            "The following package was automatically installed and is no longer required:\n",
            "  libnvidia-common-430\n",
            "Use 'apt autoremove' to remove it.\n",
            "The following NEW packages will be installed:\n",
            "  cuda-license-10-2\n",
            "The following packages have been kept back:\n",
            "  libcudnn7 libcudnn7-dev libnccl-dev libnccl2\n",
            "The following packages will be upgraded:\n",
            "  base-files bsdutils e2fsprogs fdisk libblkid1 libcom-err2 libcublas-dev\n",
            "  libcublas10 libdrm-amdgpu1 libdrm-common libdrm-dev libdrm-intel1\n",
            "  libdrm-nouveau2 libdrm-radeon1 libdrm2 libegl-mesa0 libegl1-mesa-dev\n",
            "  libexif-dev libexif12 libext2fs2 libfdisk1 libgbm1 libgcrypt20\n",
            "  libgl1-mesa-dev libgl1-mesa-dri libglapi-mesa libgles2-mesa-dev libglx-mesa0\n",
            "  libgnutls30 libllvm9 libmount1 libnvidia-cfg1-440 libnvidia-common-430\n",
            "  libnvidia-common-440 libnvidia-compute-440 libnvidia-decode-440\n",
            "  libnvidia-encode-440 libnvidia-fbc1-440 libnvidia-gl-440 libnvidia-ifr1-440\n",
            "  libqt5concurrent5 libqt5core5a libqt5dbus5 libqt5gui5 libqt5network5\n",
            "  libqt5printsupport5 libqt5sql5 libqt5test5 libqt5widgets5 libqt5xml5\n",
            "  libsasl2-2 libsasl2-modules-db libsmartcols1 libss2 libwayland-bin\n",
            "  libwayland-client0 libwayland-cursor0 libwayland-dev libwayland-egl1\n",
            "  libwayland-egl1-mesa libwayland-server0 libxml2 libxml2-dev linux-libc-dev\n",
            "  mesa-common-dev mount nvidia-compute-utils-440 nvidia-dkms-440\n",
            "  nvidia-driver-440 nvidia-kernel-common-440 nvidia-kernel-source-440\n",
            "  nvidia-utils-440 qt5-default qt5-qmake qt5-qmake-bin qtbase5-dev\n",
            "  qtbase5-dev-tools r-cran-callr r-cran-digest r-cran-dt r-cran-jsonlite\n",
            "  r-cran-knitr r-cran-mime r-cran-nlme r-cran-ps r-cran-rstudioapi\n",
            "  r-cran-svglite util-linux xserver-xorg-video-nvidia-440\n",
            "89 upgraded, 1 newly installed, 0 to remove and 4 not upgraded.\n",
            "Need to get 233 MB of archives.\n",
            "After this operation, 25.0 MB of additional disk space will be used.\n",
            "Get:1 https://developer.download.nvidia.com/compute/cuda/repos/ubuntu1804/x86_64  cuda-license-10-2 10.2.89-1 [16.4 kB]\n",
            "Get:2 https://developer.download.nvidia.com/compute/cuda/repos/ubuntu1804/x86_64  libcublas10 10.2.2.89-1 [42.2 MB]\n",
            "Get:3 http://ppa.launchpad.net/graphics-drivers/ppa/ubuntu bionic/main amd64 libnvidia-common-440 all 440.59-0ubuntu0.18.04.1 [9,060 B]\n",
            "Get:4 http://archive.ubuntu.com/ubuntu bionic-updates/main amd64 base-files amd64 10.1ubuntu2.8 [59.9 kB]\n",
            "Get:5 https://developer.download.nvidia.com/compute/cuda/repos/ubuntu1804/x86_64  libcublas-dev 10.2.2.89-1 [42.3 MB]\n",
            "Get:6 http://ppa.launchpad.net/graphics-drivers/ppa/ubuntu bionic/main amd64 nvidia-driver-440 amd64 440.59-0ubuntu0.18.04.1 [414 kB]\n",
            "Get:7 http://archive.ubuntu.com/ubuntu bionic-updates/main amd64 bsdutils amd64 1:2.31.1-0.4ubuntu3.5 [60.2 kB]\n",
            "Get:8 http://archive.ubuntu.com/ubuntu bionic-updates/main amd64 libext2fs2 amd64 1.44.1-1ubuntu1.3 [157 kB]\n",
            "Get:9 http://archive.ubuntu.com/ubuntu bionic-updates/main amd64 e2fsprogs amd64 1.44.1-1ubuntu1.3 [391 kB]\n",
            "Get:10 http://archive.ubuntu.com/ubuntu bionic-updates/main amd64 libblkid1 amd64 2.31.1-0.4ubuntu3.5 [124 kB]\n",
            "Get:11 http://archive.ubuntu.com/ubuntu bionic-updates/main amd64 libfdisk1 amd64 2.31.1-0.4ubuntu3.5 [164 kB]\n",
            "Get:12 http://archive.ubuntu.com/ubuntu bionic-updates/main amd64 libmount1 amd64 2.31.1-0.4ubuntu3.5 [136 kB]\n",
            "Get:13 http://archive.ubuntu.com/ubuntu bionic-updates/main amd64 libsmartcols1 amd64 2.31.1-0.4ubuntu3.5 [83.7 kB]\n",
            "Get:14 http://archive.ubuntu.com/ubuntu bionic-updates/main amd64 fdisk amd64 2.31.1-0.4ubuntu3.5 [108 kB]\n",
            "Get:15 http://archive.ubuntu.com/ubuntu bionic-updates/main amd64 util-linux amd64 2.31.1-0.4ubuntu3.5 [903 kB]\n",
            "Get:16 http://archive.ubuntu.com/ubuntu bionic-updates/main amd64 mount amd64 2.31.1-0.4ubuntu3.5 [107 kB]\n",
            "Get:17 http://archive.ubuntu.com/ubuntu bionic-updates/main amd64 libcom-err2 amd64 1.44.1-1ubuntu1.3 [8,848 B]\n",
            "Get:18 http://archive.ubuntu.com/ubuntu bionic-updates/main amd64 libgcrypt20 amd64 1.8.1-4ubuntu1.2 [417 kB]\n",
            "Get:19 http://archive.ubuntu.com/ubuntu bionic-updates/main amd64 libss2 amd64 1.44.1-1ubuntu1.3 [11.1 kB]\n",
            "Get:20 http://archive.ubuntu.com/ubuntu bionic-updates/main amd64 libgnutls30 amd64 3.5.18-1ubuntu1.3 [646 kB]\n",
            "Get:21 http://ppa.launchpad.net/graphics-drivers/ppa/ubuntu bionic/main amd64 libnvidia-decode-440 amd64 440.59-0ubuntu0.18.04.1 [1,025 kB]\n",
            "Get:22 http://archive.ubuntu.com/ubuntu bionic-updates/main amd64 libxml2-dev amd64 2.9.4+dfsg1-6.1ubuntu1.3 [756 kB]\n",
            "Get:23 http://archive.ubuntu.com/ubuntu bionic-updates/main amd64 libxml2 amd64 2.9.4+dfsg1-6.1ubuntu1.3 [663 kB]\n",
            "Get:24 http://archive.ubuntu.com/ubuntu bionic-updates/main amd64 libdrm-common all 2.4.99-1ubuntu1~18.04.2 [5,328 B]\n",
            "Get:25 http://archive.ubuntu.com/ubuntu bionic-updates/main amd64 libdrm-dev amd64 2.4.99-1ubuntu1~18.04.2 [125 kB]\n",
            "Get:26 http://archive.ubuntu.com/ubuntu bionic-updates/main amd64 libdrm-intel1 amd64 2.4.99-1ubuntu1~18.04.2 [59.9 kB]\n",
            "Get:27 http://archive.ubuntu.com/ubuntu bionic-updates/main amd64 libdrm-radeon1 amd64 2.4.99-1ubuntu1~18.04.2 [21.7 kB]\n",
            "Get:28 http://archive.ubuntu.com/ubuntu bionic-updates/main amd64 libdrm-nouveau2 amd64 2.4.99-1ubuntu1~18.04.2 [16.5 kB]\n",
            "Get:29 http://archive.ubuntu.com/ubuntu bionic-updates/main amd64 libdrm-amdgpu1 amd64 2.4.99-1ubuntu1~18.04.2 [18.2 kB]\n",
            "Get:30 http://archive.ubuntu.com/ubuntu bionic-updates/main amd64 libdrm2 amd64 2.4.99-1ubuntu1~18.04.2 [31.7 kB]\n",
            "Get:31 http://archive.ubuntu.com/ubuntu bionic-updates/main amd64 libwayland-dev amd64 1.16.0-1ubuntu1.1~18.04.3 [62.8 kB]\n",
            "Get:32 http://archive.ubuntu.com/ubuntu bionic-updates/main amd64 libwayland-client0 amd64 1.16.0-1ubuntu1.1~18.04.3 [23.6 kB]\n",
            "Get:33 http://archive.ubuntu.com/ubuntu bionic-updates/main amd64 libwayland-cursor0 amd64 1.16.0-1ubuntu1.1~18.04.3 [10.1 kB]\n",
            "Get:34 http://archive.ubuntu.com/ubuntu bionic-updates/main amd64 libwayland-egl1 amd64 1.16.0-1ubuntu1.1~18.04.3 [5,464 B]\n",
            "Get:35 http://archive.ubuntu.com/ubuntu bionic-updates/main amd64 libwayland-bin amd64 1.16.0-1ubuntu1.1~18.04.3 [19.8 kB]\n",
            "Get:36 http://archive.ubuntu.com/ubuntu bionic-updates/main amd64 libwayland-server0 amd64 1.16.0-1ubuntu1.1~18.04.3 [29.6 kB]\n",
            "Get:37 http://archive.ubuntu.com/ubuntu bionic-updates/main amd64 libegl-mesa0 amd64 19.2.8-0ubuntu0~18.04.2 [95.1 kB]\n",
            "Get:38 http://archive.ubuntu.com/ubuntu bionic-updates/main amd64 libgbm1 amd64 19.2.8-0ubuntu0~18.04.2 [28.1 kB]\n",
            "Get:39 http://archive.ubuntu.com/ubuntu bionic-updates/main amd64 libllvm9 amd64 1:9-2~ubuntu18.04.2 [14.8 MB]\n",
            "Get:40 http://ppa.launchpad.net/graphics-drivers/ppa/ubuntu bionic/main amd64 libnvidia-compute-440 amd64 440.59-0ubuntu0.18.04.1 [20.8 MB]\n",
            "Get:41 http://archive.ubuntu.com/ubuntu bionic-updates/main amd64 libgl1-mesa-dri amd64 19.2.8-0ubuntu0~18.04.2 [8,811 kB]\n",
            "Get:42 http://archive.ubuntu.com/ubuntu bionic-updates/main amd64 libglx-mesa0 amd64 19.2.8-0ubuntu0~18.04.2 [139 kB]\n",
            "Get:43 http://archive.ubuntu.com/ubuntu bionic-updates/main amd64 libglapi-mesa amd64 19.2.8-0ubuntu0~18.04.2 [26.5 kB]\n",
            "Get:44 http://archive.ubuntu.com/ubuntu bionic-updates/main amd64 libgl1-mesa-dev amd64 19.2.8-0ubuntu0~18.04.2 [6,176 B]\n",
            "Get:45 http://archive.ubuntu.com/ubuntu bionic-updates/main amd64 libegl1-mesa-dev amd64 19.2.8-0ubuntu0~18.04.2 [20.4 kB]\n",
            "Get:46 http://archive.ubuntu.com/ubuntu bionic-updates/main amd64 mesa-common-dev amd64 19.2.8-0ubuntu0~18.04.2 [651 kB]\n",
            "Get:47 http://archive.ubuntu.com/ubuntu bionic-updates/main amd64 libexif-dev amd64 0.6.21-4ubuntu0.1 [82.1 kB]\n",
            "Get:48 http://archive.ubuntu.com/ubuntu bionic-updates/main amd64 libexif12 amd64 0.6.21-4ubuntu0.1 [77.0 kB]\n",
            "Get:49 http://archive.ubuntu.com/ubuntu bionic-updates/main amd64 libgles2-mesa-dev amd64 19.2.8-0ubuntu0~18.04.2 [44.8 kB]\n",
            "Get:50 http://archive.ubuntu.com/ubuntu bionic-updates/main amd64 qtbase5-dev amd64 5.9.5+dfsg-0ubuntu2.5 [943 kB]\n",
            "Get:51 http://ppa.launchpad.net/graphics-drivers/ppa/ubuntu bionic/main amd64 libnvidia-gl-440 amd64 440.59-0ubuntu0.18.04.1 [62.8 MB]\n",
            "Get:52 http://archive.ubuntu.com/ubuntu bionic-updates/main amd64 libqt5core5a amd64 5.9.5+dfsg-0ubuntu2.5 [2,036 kB]\n",
            "Get:53 http://archive.ubuntu.com/ubuntu bionic-updates/main amd64 libqt5dbus5 amd64 5.9.5+dfsg-0ubuntu2.5 [195 kB]\n",
            "Get:54 http://archive.ubuntu.com/ubuntu bionic-updates/main amd64 libqt5network5 amd64 5.9.5+dfsg-0ubuntu2.5 [635 kB]\n",
            "Get:55 http://archive.ubuntu.com/ubuntu bionic-updates/main amd64 libqt5gui5 amd64 5.9.5+dfsg-0ubuntu2.5 [2,568 kB]\n",
            "Get:56 http://archive.ubuntu.com/ubuntu bionic-updates/main amd64 libqt5widgets5 amd64 5.9.5+dfsg-0ubuntu2.5 [2,203 kB]\n",
            "Get:57 http://archive.ubuntu.com/ubuntu bionic-updates/main amd64 libqt5printsupport5 amd64 5.9.5+dfsg-0ubuntu2.5 [178 kB]\n",
            "Get:58 http://archive.ubuntu.com/ubuntu bionic-updates/main amd64 libqt5sql5 amd64 5.9.5+dfsg-0ubuntu2.5 [115 kB]\n",
            "Get:59 http://archive.ubuntu.com/ubuntu bionic-updates/main amd64 libqt5test5 amd64 5.9.5+dfsg-0ubuntu2.5 [98.1 kB]\n",
            "Get:60 http://archive.ubuntu.com/ubuntu bionic-updates/main amd64 libqt5xml5 amd64 5.9.5+dfsg-0ubuntu2.5 [99.5 kB]\n",
            "Get:61 http://archive.ubuntu.com/ubuntu bionic-updates/main amd64 qt5-qmake amd64 5.9.5+dfsg-0ubuntu2.5 [180 kB]\n",
            "Get:62 http://archive.ubuntu.com/ubuntu bionic-updates/main amd64 qt5-qmake-bin amd64 5.9.5+dfsg-0ubuntu2.5 [938 kB]\n",
            "Get:63 http://archive.ubuntu.com/ubuntu bionic-updates/main amd64 qtbase5-dev-tools amd64 5.9.5+dfsg-0ubuntu2.5 [724 kB]\n",
            "Get:64 http://archive.ubuntu.com/ubuntu bionic-updates/main amd64 libqt5concurrent5 amd64 5.9.5+dfsg-0ubuntu2.5 [29.8 kB]\n",
            "Get:65 http://archive.ubuntu.com/ubuntu bionic-updates/main amd64 libsasl2-modules-db amd64 2.1.27~101-g0780600+dfsg-3ubuntu2.1 [14.8 kB]\n",
            "Get:66 http://archive.ubuntu.com/ubuntu bionic-updates/main amd64 libsasl2-2 amd64 2.1.27~101-g0780600+dfsg-3ubuntu2.1 [49.2 kB]\n",
            "Get:67 http://archive.ubuntu.com/ubuntu bionic-updates/main amd64 libwayland-egl1-mesa amd64 19.2.8-0ubuntu0~18.04.2 [6,864 B]\n",
            "Get:68 http://archive.ubuntu.com/ubuntu bionic-updates/main amd64 linux-libc-dev amd64 4.15.0-76.86 [999 kB]\n",
            "Get:69 http://archive.ubuntu.com/ubuntu bionic-updates/universe amd64 qt5-default amd64 5.9.5+dfsg-0ubuntu2.5 [20.9 kB]\n",
            "Get:70 http://ppa.launchpad.net/graphics-drivers/ppa/ubuntu bionic/main amd64 nvidia-dkms-440 amd64 440.59-0ubuntu0.18.04.1 [25.3 kB]\n",
            "Get:71 http://ppa.launchpad.net/graphics-drivers/ppa/ubuntu bionic/main amd64 nvidia-kernel-source-440 amd64 440.59-0ubuntu0.18.04.1 [13.2 MB]\n",
            "Get:72 http://ppa.launchpad.net/graphics-drivers/ppa/ubuntu bionic/main amd64 nvidia-kernel-common-440 amd64 440.59-0ubuntu0.18.04.1 [8,996 B]\n",
            "Get:73 http://ppa.launchpad.net/graphics-drivers/ppa/ubuntu bionic/main amd64 nvidia-compute-utils-440 amd64 440.59-0ubuntu0.18.04.1 [72.5 kB]\n",
            "Get:74 http://ppa.launchpad.net/graphics-drivers/ppa/ubuntu bionic/main amd64 libnvidia-encode-440 amd64 440.59-0ubuntu0.18.04.1 [37.1 kB]\n",
            "Get:75 http://ppa.launchpad.net/graphics-drivers/ppa/ubuntu bionic/main amd64 nvidia-utils-440 amd64 440.59-0ubuntu0.18.04.1 [344 kB]\n",
            "Get:76 http://ppa.launchpad.net/graphics-drivers/ppa/ubuntu bionic/main amd64 xserver-xorg-video-nvidia-440 amd64 440.59-0ubuntu0.18.04.1 [1,479 kB]\n",
            "Get:77 http://ppa.launchpad.net/graphics-drivers/ppa/ubuntu bionic/main amd64 libnvidia-ifr1-440 amd64 440.59-0ubuntu0.18.04.1 [67.7 kB]\n",
            "Get:78 http://ppa.launchpad.net/graphics-drivers/ppa/ubuntu bionic/main amd64 libnvidia-fbc1-440 amd64 440.59-0ubuntu0.18.04.1 [48.1 kB]\n",
            "Get:79 http://ppa.launchpad.net/graphics-drivers/ppa/ubuntu bionic/main amd64 libnvidia-cfg1-440 amd64 440.59-0ubuntu0.18.04.1 [70.5 kB]\n",
            "Get:80 http://ppa.launchpad.net/graphics-drivers/ppa/ubuntu bionic/main amd64 libnvidia-common-430 all 440.59-0ubuntu0.18.04.1 [6,048 B]\n",
            "Get:81 http://ppa.launchpad.net/marutter/c2d4u3.5/ubuntu bionic/main amd64 r-cran-callr all 3.4.2-1cran1ppabionic0 [370 kB]\n",
            "Get:82 http://ppa.launchpad.net/marutter/c2d4u3.5/ubuntu bionic/main amd64 r-cran-digest amd64 0.6.24-1cran1ppabionic0 [179 kB]\n",
            "Get:83 http://ppa.launchpad.net/marutter/c2d4u3.5/ubuntu bionic/main amd64 r-cran-jsonlite amd64 1.6.1-1cran1ppabionic0 [621 kB]\n",
            "Get:84 http://ppa.launchpad.net/marutter/c2d4u3.5/ubuntu bionic/main amd64 r-cran-dt all 0.12-1cran1ppabionic0 [1,047 kB]\n",
            "Get:85 http://ppa.launchpad.net/marutter/c2d4u3.5/ubuntu bionic/main amd64 r-cran-knitr all 1.28-1cran1ppabionic0 [1,172 kB]\n",
            "Get:86 http://ppa.launchpad.net/marutter/c2d4u3.5/ubuntu bionic/main amd64 r-cran-mime amd64 0.9-1cran1ppabionic0 [35.3 kB]\n",
            "Get:87 http://ppa.launchpad.net/marutter/c2d4u3.5/ubuntu bionic/main amd64 r-cran-nlme amd64 3.1.144-1ppabionic0 [2,221 kB]\n",
            "Get:88 http://ppa.launchpad.net/marutter/c2d4u3.5/ubuntu bionic/main amd64 r-cran-ps amd64 1.3.2-1cran1ppabionic0 [201 kB]\n",
            "Get:89 http://ppa.launchpad.net/marutter/c2d4u3.5/ubuntu bionic/main amd64 r-cran-rstudioapi all 0.11-1cran1ppabionic0 [248 kB]\n",
            "Get:90 http://ppa.launchpad.net/marutter/c2d4u3.5/ubuntu bionic/main amd64 r-cran-svglite amd64 1.2.3-1cran1ppabionic0 [107 kB]\n",
            "Fetched 233 MB in 50s (4,708 kB/s)\n",
            "Extracting templates from packages: 100%\n",
            "(Reading database ... 137997 files and directories currently installed.)\n",
            "Preparing to unpack .../base-files_10.1ubuntu2.8_amd64.deb ...\n",
            "Unpacking base-files (10.1ubuntu2.8) over (10.1ubuntu2.7) ...\n",
            "Setting up base-files (10.1ubuntu2.8) ...\n",
            "Installing new version of config file /etc/issue ...\n",
            "Installing new version of config file /etc/issue.net ...\n",
            "Installing new version of config file /etc/lsb-release ...\n",
            "(Reading database ... 137997 files and directories currently installed.)\n",
            "Preparing to unpack .../bsdutils_1%3a2.31.1-0.4ubuntu3.5_amd64.deb ...\n",
            "Unpacking bsdutils (1:2.31.1-0.4ubuntu3.5) over (1:2.31.1-0.4ubuntu3.4) ...\n",
            "Setting up bsdutils (1:2.31.1-0.4ubuntu3.5) ...\n",
            "(Reading database ... 137997 files and directories currently installed.)\n",
            "Preparing to unpack .../libext2fs2_1.44.1-1ubuntu1.3_amd64.deb ...\n",
            "Unpacking libext2fs2:amd64 (1.44.1-1ubuntu1.3) over (1.44.1-1ubuntu1.2) ...\n",
            "Setting up libext2fs2:amd64 (1.44.1-1ubuntu1.3) ...\n",
            "(Reading database ... 137997 files and directories currently installed.)\n",
            "Preparing to unpack .../e2fsprogs_1.44.1-1ubuntu1.3_amd64.deb ...\n",
            "Unpacking e2fsprogs (1.44.1-1ubuntu1.3) over (1.44.1-1ubuntu1.2) ...\n",
            "Setting up e2fsprogs (1.44.1-1ubuntu1.3) ...\n",
            "(Reading database ... 137997 files and directories currently installed.)\n",
            "Preparing to unpack .../libblkid1_2.31.1-0.4ubuntu3.5_amd64.deb ...\n",
            "Unpacking libblkid1:amd64 (2.31.1-0.4ubuntu3.5) over (2.31.1-0.4ubuntu3.4) ...\n",
            "Setting up libblkid1:amd64 (2.31.1-0.4ubuntu3.5) ...\n",
            "(Reading database ... 137997 files and directories currently installed.)\n",
            "Preparing to unpack .../libfdisk1_2.31.1-0.4ubuntu3.5_amd64.deb ...\n",
            "Unpacking libfdisk1:amd64 (2.31.1-0.4ubuntu3.5) over (2.31.1-0.4ubuntu3.4) ...\n",
            "Setting up libfdisk1:amd64 (2.31.1-0.4ubuntu3.5) ...\n",
            "(Reading database ... 137997 files and directories currently installed.)\n",
            "Preparing to unpack .../libmount1_2.31.1-0.4ubuntu3.5_amd64.deb ...\n",
            "Unpacking libmount1:amd64 (2.31.1-0.4ubuntu3.5) over (2.31.1-0.4ubuntu3.4) ...\n",
            "Setting up libmount1:amd64 (2.31.1-0.4ubuntu3.5) ...\n",
            "(Reading database ... 137997 files and directories currently installed.)\n",
            "Preparing to unpack .../libsmartcols1_2.31.1-0.4ubuntu3.5_amd64.deb ...\n",
            "Unpacking libsmartcols1:amd64 (2.31.1-0.4ubuntu3.5) over (2.31.1-0.4ubuntu3.4) ...\n",
            "Setting up libsmartcols1:amd64 (2.31.1-0.4ubuntu3.5) ...\n",
            "(Reading database ... 137997 files and directories currently installed.)\n",
            "Preparing to unpack .../fdisk_2.31.1-0.4ubuntu3.5_amd64.deb ...\n",
            "Unpacking fdisk (2.31.1-0.4ubuntu3.5) over (2.31.1-0.4ubuntu3.4) ...\n",
            "Setting up fdisk (2.31.1-0.4ubuntu3.5) ...\n",
            "(Reading database ... 137997 files and directories currently installed.)\n",
            "Preparing to unpack .../util-linux_2.31.1-0.4ubuntu3.5_amd64.deb ...\n",
            "Unpacking util-linux (2.31.1-0.4ubuntu3.5) over (2.31.1-0.4ubuntu3.4) ...\n",
            "Setting up util-linux (2.31.1-0.4ubuntu3.5) ...\n",
            "(Reading database ... 137997 files and directories currently installed.)\n",
            "Preparing to unpack .../mount_2.31.1-0.4ubuntu3.5_amd64.deb ...\n",
            "Unpacking mount (2.31.1-0.4ubuntu3.5) over (2.31.1-0.4ubuntu3.4) ...\n",
            "Preparing to unpack .../libcom-err2_1.44.1-1ubuntu1.3_amd64.deb ...\n",
            "Unpacking libcom-err2:amd64 (1.44.1-1ubuntu1.3) over (1.44.1-1ubuntu1.2) ...\n",
            "Setting up libcom-err2:amd64 (1.44.1-1ubuntu1.3) ...\n",
            "(Reading database ... 137997 files and directories currently installed.)\n",
            "Preparing to unpack .../libgcrypt20_1.8.1-4ubuntu1.2_amd64.deb ...\n",
            "Unpacking libgcrypt20:amd64 (1.8.1-4ubuntu1.2) over (1.8.1-4ubuntu1.1) ...\n",
            "Setting up libgcrypt20:amd64 (1.8.1-4ubuntu1.2) ...\n",
            "(Reading database ... 137997 files and directories currently installed.)\n",
            "Preparing to unpack .../libss2_1.44.1-1ubuntu1.3_amd64.deb ...\n",
            "Unpacking libss2:amd64 (1.44.1-1ubuntu1.3) over (1.44.1-1ubuntu1.2) ...\n",
            "Setting up libss2:amd64 (1.44.1-1ubuntu1.3) ...\n",
            "(Reading database ... 137997 files and directories currently installed.)\n",
            "Preparing to unpack .../libgnutls30_3.5.18-1ubuntu1.3_amd64.deb ...\n",
            "Unpacking libgnutls30:amd64 (3.5.18-1ubuntu1.3) over (3.5.18-1ubuntu1.1) ...\n",
            "Setting up libgnutls30:amd64 (3.5.18-1ubuntu1.3) ...\n",
            "(Reading database ... 137997 files and directories currently installed.)\n",
            "Preparing to unpack .../00-libxml2-dev_2.9.4+dfsg1-6.1ubuntu1.3_amd64.deb ...\n",
            "Unpacking libxml2-dev:amd64 (2.9.4+dfsg1-6.1ubuntu1.3) over (2.9.4+dfsg1-6.1ubuntu1.2) ...\n",
            "Preparing to unpack .../01-libxml2_2.9.4+dfsg1-6.1ubuntu1.3_amd64.deb ...\n",
            "Unpacking libxml2:amd64 (2.9.4+dfsg1-6.1ubuntu1.3) over (2.9.4+dfsg1-6.1ubuntu1.2) ...\n",
            "Preparing to unpack .../02-libdrm-common_2.4.99-1ubuntu1~18.04.2_all.deb ...\n",
            "Unpacking libdrm-common (2.4.99-1ubuntu1~18.04.2) over (2.4.99-1ubuntu1~18.04.1) ...\n",
            "Preparing to unpack .../03-libdrm-dev_2.4.99-1ubuntu1~18.04.2_amd64.deb ...\n",
            "Unpacking libdrm-dev:amd64 (2.4.99-1ubuntu1~18.04.2) over (2.4.99-1ubuntu1~18.04.1) ...\n",
            "Preparing to unpack .../04-libdrm-intel1_2.4.99-1ubuntu1~18.04.2_amd64.deb ...\n",
            "Unpacking libdrm-intel1:amd64 (2.4.99-1ubuntu1~18.04.2) over (2.4.99-1ubuntu1~18.04.1) ...\n",
            "Preparing to unpack .../05-libdrm-radeon1_2.4.99-1ubuntu1~18.04.2_amd64.deb ...\n",
            "Unpacking libdrm-radeon1:amd64 (2.4.99-1ubuntu1~18.04.2) over (2.4.99-1ubuntu1~18.04.1) ...\n",
            "Preparing to unpack .../06-libdrm-nouveau2_2.4.99-1ubuntu1~18.04.2_amd64.deb ...\n",
            "Unpacking libdrm-nouveau2:amd64 (2.4.99-1ubuntu1~18.04.2) over (2.4.99-1ubuntu1~18.04.1) ...\n",
            "Preparing to unpack .../07-libdrm-amdgpu1_2.4.99-1ubuntu1~18.04.2_amd64.deb ...\n",
            "Unpacking libdrm-amdgpu1:amd64 (2.4.99-1ubuntu1~18.04.2) over (2.4.99-1ubuntu1~18.04.1) ...\n",
            "Preparing to unpack .../08-libdrm2_2.4.99-1ubuntu1~18.04.2_amd64.deb ...\n",
            "Unpacking libdrm2:amd64 (2.4.99-1ubuntu1~18.04.2) over (2.4.99-1ubuntu1~18.04.1) ...\n",
            "Selecting previously unselected package cuda-license-10-2.\n",
            "Preparing to unpack .../09-cuda-license-10-2_10.2.89-1_amd64.deb ...\n",
            "Unpacking cuda-license-10-2 (10.2.89-1) ...\n",
            "Preparing to unpack .../10-libcublas10_10.2.2.89-1_amd64.deb ...\n",
            "Unpacking libcublas10 (10.2.2.89-1) over (10.2.1.243-1) ...\n",
            "Preparing to unpack .../11-libcublas-dev_10.2.2.89-1_amd64.deb ...\n",
            "Unpacking libcublas-dev (10.2.2.89-1) over (10.2.1.243-1) ...\n",
            "Preparing to unpack .../12-libwayland-dev_1.16.0-1ubuntu1.1~18.04.3_amd64.deb ...\n",
            "Unpacking libwayland-dev:amd64 (1.16.0-1ubuntu1.1~18.04.3) over (1.16.0-1ubuntu1.1~18.04.1) ...\n",
            "Preparing to unpack .../13-libwayland-client0_1.16.0-1ubuntu1.1~18.04.3_amd64.deb ...\n",
            "Unpacking libwayland-client0:amd64 (1.16.0-1ubuntu1.1~18.04.3) over (1.16.0-1ubuntu1.1~18.04.1) ...\n",
            "Preparing to unpack .../14-libwayland-cursor0_1.16.0-1ubuntu1.1~18.04.3_amd64.deb ...\n",
            "Unpacking libwayland-cursor0:amd64 (1.16.0-1ubuntu1.1~18.04.3) over (1.16.0-1ubuntu1.1~18.04.1) ...\n",
            "Preparing to unpack .../15-libwayland-egl1_1.16.0-1ubuntu1.1~18.04.3_amd64.deb ...\n",
            "Unpacking libwayland-egl1:amd64 (1.16.0-1ubuntu1.1~18.04.3) over (1.16.0-1ubuntu1.1~18.04.1) ...\n",
            "Preparing to unpack .../16-libwayland-bin_1.16.0-1ubuntu1.1~18.04.3_amd64.deb ...\n",
            "Unpacking libwayland-bin (1.16.0-1ubuntu1.1~18.04.3) over (1.16.0-1ubuntu1.1~18.04.1) ...\n",
            "Preparing to unpack .../17-libwayland-server0_1.16.0-1ubuntu1.1~18.04.3_amd64.deb ...\n",
            "Unpacking libwayland-server0:amd64 (1.16.0-1ubuntu1.1~18.04.3) over (1.16.0-1ubuntu1.1~18.04.1) ...\n",
            "Preparing to unpack .../18-libegl-mesa0_19.2.8-0ubuntu0~18.04.2_amd64.deb ...\n",
            "Unpacking libegl-mesa0:amd64 (19.2.8-0ubuntu0~18.04.2) over (19.2.8-0ubuntu0~18.04.1) ...\n",
            "Preparing to unpack .../19-libgbm1_19.2.8-0ubuntu0~18.04.2_amd64.deb ...\n",
            "Unpacking libgbm1:amd64 (19.2.8-0ubuntu0~18.04.2) over (19.2.8-0ubuntu0~18.04.1) ...\n",
            "Preparing to unpack .../20-libllvm9_1%3a9-2~ubuntu18.04.2_amd64.deb ...\n",
            "Unpacking libllvm9:amd64 (1:9-2~ubuntu18.04.2) over (1:9-2~ubuntu18.04.1) ...\n",
            "Preparing to unpack .../21-libgl1-mesa-dri_19.2.8-0ubuntu0~18.04.2_amd64.deb ...\n",
            "Unpacking libgl1-mesa-dri:amd64 (19.2.8-0ubuntu0~18.04.2) over (19.2.8-0ubuntu0~18.04.1) ...\n",
            "Preparing to unpack .../22-libglx-mesa0_19.2.8-0ubuntu0~18.04.2_amd64.deb ...\n",
            "Unpacking libglx-mesa0:amd64 (19.2.8-0ubuntu0~18.04.2) over (19.2.8-0ubuntu0~18.04.1) ...\n",
            "Preparing to unpack .../23-libglapi-mesa_19.2.8-0ubuntu0~18.04.2_amd64.deb ...\n",
            "Unpacking libglapi-mesa:amd64 (19.2.8-0ubuntu0~18.04.2) over (19.2.8-0ubuntu0~18.04.1) ...\n",
            "Preparing to unpack .../24-libgl1-mesa-dev_19.2.8-0ubuntu0~18.04.2_amd64.deb ...\n",
            "Unpacking libgl1-mesa-dev:amd64 (19.2.8-0ubuntu0~18.04.2) over (19.2.8-0ubuntu0~18.04.1) ...\n",
            "Preparing to unpack .../25-libegl1-mesa-dev_19.2.8-0ubuntu0~18.04.2_amd64.deb ...\n",
            "Unpacking libegl1-mesa-dev:amd64 (19.2.8-0ubuntu0~18.04.2) over (19.2.8-0ubuntu0~18.04.1) ...\n",
            "Preparing to unpack .../26-mesa-common-dev_19.2.8-0ubuntu0~18.04.2_amd64.deb ...\n",
            "Unpacking mesa-common-dev:amd64 (19.2.8-0ubuntu0~18.04.2) over (19.2.8-0ubuntu0~18.04.1) ...\n",
            "Preparing to unpack .../27-libexif-dev_0.6.21-4ubuntu0.1_amd64.deb ...\n",
            "Unpacking libexif-dev:amd64 (0.6.21-4ubuntu0.1) over (0.6.21-4) ...\n",
            "Preparing to unpack .../28-libexif12_0.6.21-4ubuntu0.1_amd64.deb ...\n",
            "Unpacking libexif12:amd64 (0.6.21-4ubuntu0.1) over (0.6.21-4) ...\n",
            "Preparing to unpack .../29-libgles2-mesa-dev_19.2.8-0ubuntu0~18.04.2_amd64.deb ...\n",
            "Unpacking libgles2-mesa-dev:amd64 (19.2.8-0ubuntu0~18.04.2) over (19.2.8-0ubuntu0~18.04.1) ...\n",
            "Preparing to unpack .../30-libnvidia-common-440_440.59-0ubuntu0.18.04.1_all.deb ...\n",
            "Unpacking libnvidia-common-440 (440.59-0ubuntu0.18.04.1) over (440.48.02-0ubuntu0~~18.04.1) ...\n",
            "Preparing to unpack .../31-nvidia-driver-440_440.59-0ubuntu0.18.04.1_amd64.deb ...\n",
            "Unpacking nvidia-driver-440 (440.59-0ubuntu0.18.04.1) over (440.48.02-0ubuntu0~~18.04.1) ...\n",
            "Preparing to unpack .../32-libnvidia-decode-440_440.59-0ubuntu0.18.04.1_amd64.deb ...\n",
            "Unpacking libnvidia-decode-440:amd64 (440.59-0ubuntu0.18.04.1) over (440.48.02-0ubuntu0~~18.04.1) ...\n",
            "Preparing to unpack .../33-libnvidia-compute-440_440.59-0ubuntu0.18.04.1_amd64.deb ...\n",
            "Unpacking libnvidia-compute-440:amd64 (440.59-0ubuntu0.18.04.1) over (440.48.02-0ubuntu0~~18.04.1) ...\n",
            "Preparing to unpack .../34-libnvidia-gl-440_440.59-0ubuntu0.18.04.1_amd64.deb ...\n",
            "\u001b[1mdpkg-query:\u001b[0m no packages found matching libnvidia-gl-435\n",
            "Unpacking libnvidia-gl-440:amd64 (440.59-0ubuntu0.18.04.1) over (440.48.02-0ubuntu0~~18.04.1) ...\n",
            "Preparing to unpack .../35-nvidia-dkms-440_440.59-0ubuntu0.18.04.1_amd64.deb ...\n",
            "Removing all DKMS Modules\n",
            "Done.\n",
            "Unpacking nvidia-dkms-440 (440.59-0ubuntu0.18.04.1) over (440.48.02-0ubuntu0~~18.04.1) ...\n",
            "Preparing to unpack .../36-nvidia-kernel-source-440_440.59-0ubuntu0.18.04.1_amd64.deb ...\n",
            "Unpacking nvidia-kernel-source-440 (440.59-0ubuntu0.18.04.1) over (440.48.02-0ubuntu0~~18.04.1) ...\n",
            "Preparing to unpack .../37-nvidia-kernel-common-440_440.59-0ubuntu0.18.04.1_amd64.deb ...\n",
            "Unpacking nvidia-kernel-common-440 (440.59-0ubuntu0.18.04.1) over (440.48.02-0ubuntu0~~18.04.1) ...\n",
            "Preparing to unpack .../38-nvidia-compute-utils-440_440.59-0ubuntu0.18.04.1_amd64.deb ...\n",
            "System has not been booted with systemd as init system (PID 1). Can't operate.\n",
            "System has not been booted with systemd as init system (PID 1). Can't operate.\n",
            "Unpacking nvidia-compute-utils-440 (440.59-0ubuntu0.18.04.1) over (440.48.02-0ubuntu0~~18.04.1) ...\n",
            "Preparing to unpack .../39-libnvidia-encode-440_440.59-0ubuntu0.18.04.1_amd64.deb ...\n",
            "Unpacking libnvidia-encode-440:amd64 (440.59-0ubuntu0.18.04.1) over (440.48.02-0ubuntu0~~18.04.1) ...\n",
            "Preparing to unpack .../40-nvidia-utils-440_440.59-0ubuntu0.18.04.1_amd64.deb ...\n",
            "Unpacking nvidia-utils-440 (440.59-0ubuntu0.18.04.1) over (440.48.02-0ubuntu0~~18.04.1) ...\n",
            "Preparing to unpack .../41-xserver-xorg-video-nvidia-440_440.59-0ubuntu0.18.04.1_amd64.deb ...\n",
            "Unpacking xserver-xorg-video-nvidia-440 (440.59-0ubuntu0.18.04.1) over (440.48.02-0ubuntu0~~18.04.1) ...\n",
            "Preparing to unpack .../42-libnvidia-ifr1-440_440.59-0ubuntu0.18.04.1_amd64.deb ...\n",
            "Unpacking libnvidia-ifr1-440:amd64 (440.59-0ubuntu0.18.04.1) over (440.48.02-0ubuntu0~~18.04.1) ...\n",
            "Preparing to unpack .../43-libnvidia-fbc1-440_440.59-0ubuntu0.18.04.1_amd64.deb ...\n",
            "Unpacking libnvidia-fbc1-440:amd64 (440.59-0ubuntu0.18.04.1) over (440.48.02-0ubuntu0~~18.04.1) ...\n",
            "Preparing to unpack .../44-libnvidia-cfg1-440_440.59-0ubuntu0.18.04.1_amd64.deb ...\n",
            "Unpacking libnvidia-cfg1-440:amd64 (440.59-0ubuntu0.18.04.1) over (440.48.02-0ubuntu0~~18.04.1) ...\n",
            "Preparing to unpack .../45-libnvidia-common-430_440.59-0ubuntu0.18.04.1_all.deb ...\n",
            "Unpacking libnvidia-common-430 (440.59-0ubuntu0.18.04.1) over (430.64-0ubuntu0~gpu18.04.1) ...\n",
            "Preparing to unpack .../46-qtbase5-dev_5.9.5+dfsg-0ubuntu2.5_amd64.deb ...\n",
            "Unpacking qtbase5-dev:amd64 (5.9.5+dfsg-0ubuntu2.5) over (5.9.5+dfsg-0ubuntu2.4) ...\n",
            "Preparing to unpack .../47-libqt5core5a_5.9.5+dfsg-0ubuntu2.5_amd64.deb ...\n",
            "Unpacking libqt5core5a:amd64 (5.9.5+dfsg-0ubuntu2.5) over (5.9.5+dfsg-0ubuntu2.4) ...\n",
            "Preparing to unpack .../48-libqt5dbus5_5.9.5+dfsg-0ubuntu2.5_amd64.deb ...\n",
            "Unpacking libqt5dbus5:amd64 (5.9.5+dfsg-0ubuntu2.5) over (5.9.5+dfsg-0ubuntu2.4) ...\n",
            "Preparing to unpack .../49-libqt5network5_5.9.5+dfsg-0ubuntu2.5_amd64.deb ...\n",
            "Unpacking libqt5network5:amd64 (5.9.5+dfsg-0ubuntu2.5) over (5.9.5+dfsg-0ubuntu2.4) ...\n",
            "Preparing to unpack .../50-libqt5gui5_5.9.5+dfsg-0ubuntu2.5_amd64.deb ...\n",
            "Unpacking libqt5gui5:amd64 (5.9.5+dfsg-0ubuntu2.5) over (5.9.5+dfsg-0ubuntu2.4) ...\n",
            "Preparing to unpack .../51-libqt5widgets5_5.9.5+dfsg-0ubuntu2.5_amd64.deb ...\n",
            "Unpacking libqt5widgets5:amd64 (5.9.5+dfsg-0ubuntu2.5) over (5.9.5+dfsg-0ubuntu2.4) ...\n",
            "Preparing to unpack .../52-libqt5printsupport5_5.9.5+dfsg-0ubuntu2.5_amd64.deb ...\n",
            "Unpacking libqt5printsupport5:amd64 (5.9.5+dfsg-0ubuntu2.5) over (5.9.5+dfsg-0ubuntu2.4) ...\n",
            "Preparing to unpack .../53-libqt5sql5_5.9.5+dfsg-0ubuntu2.5_amd64.deb ...\n",
            "Unpacking libqt5sql5:amd64 (5.9.5+dfsg-0ubuntu2.5) over (5.9.5+dfsg-0ubuntu2.4) ...\n",
            "Preparing to unpack .../54-libqt5test5_5.9.5+dfsg-0ubuntu2.5_amd64.deb ...\n",
            "Unpacking libqt5test5:amd64 (5.9.5+dfsg-0ubuntu2.5) over (5.9.5+dfsg-0ubuntu2.4) ...\n",
            "Preparing to unpack .../55-libqt5xml5_5.9.5+dfsg-0ubuntu2.5_amd64.deb ...\n",
            "Unpacking libqt5xml5:amd64 (5.9.5+dfsg-0ubuntu2.5) over (5.9.5+dfsg-0ubuntu2.4) ...\n",
            "Preparing to unpack .../56-qt5-qmake_5.9.5+dfsg-0ubuntu2.5_amd64.deb ...\n",
            "Unpacking qt5-qmake:amd64 (5.9.5+dfsg-0ubuntu2.5) over (5.9.5+dfsg-0ubuntu2.4) ...\n",
            "Preparing to unpack .../57-qt5-qmake-bin_5.9.5+dfsg-0ubuntu2.5_amd64.deb ...\n",
            "Unpacking qt5-qmake-bin (5.9.5+dfsg-0ubuntu2.5) over (5.9.5+dfsg-0ubuntu2.4) ...\n",
            "Preparing to unpack .../58-qtbase5-dev-tools_5.9.5+dfsg-0ubuntu2.5_amd64.deb ...\n",
            "Unpacking qtbase5-dev-tools (5.9.5+dfsg-0ubuntu2.5) over (5.9.5+dfsg-0ubuntu2.4) ...\n",
            "Preparing to unpack .../59-libqt5concurrent5_5.9.5+dfsg-0ubuntu2.5_amd64.deb ...\n",
            "Unpacking libqt5concurrent5:amd64 (5.9.5+dfsg-0ubuntu2.5) over (5.9.5+dfsg-0ubuntu2.4) ...\n",
            "Preparing to unpack .../60-libsasl2-modules-db_2.1.27~101-g0780600+dfsg-3ubuntu2.1_amd64.deb ...\n",
            "Unpacking libsasl2-modules-db:amd64 (2.1.27~101-g0780600+dfsg-3ubuntu2.1) over (2.1.27~101-g0780600+dfsg-3ubuntu2) ...\n",
            "Preparing to unpack .../61-libsasl2-2_2.1.27~101-g0780600+dfsg-3ubuntu2.1_amd64.deb ...\n",
            "Unpacking libsasl2-2:amd64 (2.1.27~101-g0780600+dfsg-3ubuntu2.1) over (2.1.27~101-g0780600+dfsg-3ubuntu2) ...\n",
            "Preparing to unpack .../62-libwayland-egl1-mesa_19.2.8-0ubuntu0~18.04.2_amd64.deb ...\n",
            "Unpacking libwayland-egl1-mesa:amd64 (19.2.8-0ubuntu0~18.04.2) over (19.2.8-0ubuntu0~18.04.1) ...\n",
            "Preparing to unpack .../63-linux-libc-dev_4.15.0-76.86_amd64.deb ...\n",
            "Unpacking linux-libc-dev:amd64 (4.15.0-76.86) over (4.15.0-72.81) ...\n",
            "Preparing to unpack .../64-qt5-default_5.9.5+dfsg-0ubuntu2.5_amd64.deb ...\n",
            "Unpacking qt5-default:amd64 (5.9.5+dfsg-0ubuntu2.5) over (5.9.5+dfsg-0ubuntu2.4) ...\n",
            "Preparing to unpack .../65-r-cran-callr_3.4.2-1cran1ppabionic0_all.deb ...\n",
            "Unpacking r-cran-callr (3.4.2-1cran1ppabionic0) over (3.4.1-1cran1ppabionic0) ...\n",
            "Preparing to unpack .../66-r-cran-digest_0.6.24-1cran1ppabionic0_amd64.deb ...\n",
            "Unpacking r-cran-digest (0.6.24-1cran1ppabionic0) over (0.6.23-1cran1ppabionic0) ...\n",
            "Preparing to unpack .../67-r-cran-jsonlite_1.6.1-1cran1ppabionic0_amd64.deb ...\n",
            "Unpacking r-cran-jsonlite (1.6.1-1cran1ppabionic0) over (1.6-1cran1ppabionic0) ...\n",
            "Preparing to unpack .../68-r-cran-dt_0.12-1cran1ppabionic0_all.deb ...\n",
            "Unpacking r-cran-dt (0.12-1cran1ppabionic0) over (0.11-1cran1ppabionic0) ...\n",
            "Preparing to unpack .../69-r-cran-knitr_1.28-1cran1ppabionic0_all.deb ...\n",
            "Unpacking r-cran-knitr (1.28-1cran1ppabionic0) over (1.27-1cran1ppabionic0) ...\n",
            "Preparing to unpack .../70-r-cran-mime_0.9-1cran1ppabionic0_amd64.deb ...\n",
            "Unpacking r-cran-mime (0.9-1cran1ppabionic0) over (0.8-1cran1ppabionic0) ...\n",
            "Preparing to unpack .../71-r-cran-nlme_3.1.144-1ppabionic0_amd64.deb ...\n",
            "Unpacking r-cran-nlme (3.1.144-1ppabionic0) over (3.1.143-1ppabionic0) ...\n",
            "Preparing to unpack .../72-r-cran-ps_1.3.2-1cran1ppabionic0_amd64.deb ...\n",
            "Unpacking r-cran-ps (1.3.2-1cran1ppabionic0) over (1.3.0-1cran1ppabionic0) ...\n",
            "Preparing to unpack .../73-r-cran-rstudioapi_0.11-1cran1ppabionic0_all.deb ...\n",
            "Unpacking r-cran-rstudioapi (0.11-1cran1ppabionic0) over (0.10-1cran1ppabionic0) ...\n",
            "Preparing to unpack .../74-r-cran-svglite_1.2.3-1cran1ppabionic0_amd64.deb ...\n",
            "Unpacking r-cran-svglite (1.2.3-1cran1ppabionic0) over (1.2.2-1cran1ppabionic0) ...\n",
            "Setting up libqt5core5a:amd64 (5.9.5+dfsg-0ubuntu2.5) ...\n",
            "Setting up r-cran-callr (3.4.2-1cran1ppabionic0) ...\n",
            "Setting up libqt5dbus5:amd64 (5.9.5+dfsg-0ubuntu2.5) ...\n",
            "Setting up r-cran-ps (1.3.2-1cran1ppabionic0) ...\n",
            "Setting up r-cran-svglite (1.2.3-1cran1ppabionic0) ...\n",
            "Setting up libnvidia-common-440 (440.59-0ubuntu0.18.04.1) ...\n",
            "Setting up libqt5network5:amd64 (5.9.5+dfsg-0ubuntu2.5) ...\n",
            "Setting up qt5-qmake-bin (5.9.5+dfsg-0ubuntu2.5) ...\n",
            "Setting up libnvidia-fbc1-440:amd64 (440.59-0ubuntu0.18.04.1) ...\n",
            "Setting up cuda-license-10-2 (10.2.89-1) ...\n",
            "*** LICENSE AGREEMENT ***\n",
            "By using this software you agree to fully comply with the terms and \n",
            "conditions of the EULA (End User License Agreement). The EULA is located\n",
            "at /usr/local/cuda-10.2/doc/EULA.txt. The EULA can also be found at\n",
            "http://docs.nvidia.com/cuda/eula/index.html. If you do not agree to the\n",
            "terms and conditions of the EULA, do not use the software.\n",
            "\n",
            "Setting up libwayland-client0:amd64 (1.16.0-1ubuntu1.1~18.04.3) ...\n",
            "Setting up r-cran-nlme (3.1.144-1ppabionic0) ...\n",
            "Setting up libsasl2-modules-db:amd64 (2.1.27~101-g0780600+dfsg-3ubuntu2.1) ...\n",
            "Setting up r-cran-knitr (1.28-1cran1ppabionic0) ...\n",
            "Setting up linux-libc-dev:amd64 (4.15.0-76.86) ...\n",
            "Setting up mount (2.31.1-0.4ubuntu3.5) ...\n",
            "Setting up libqt5test5:amd64 (5.9.5+dfsg-0ubuntu2.5) ...\n",
            "Setting up libsasl2-2:amd64 (2.1.27~101-g0780600+dfsg-3ubuntu2.1) ...\n",
            "Setting up libnvidia-common-430 (440.59-0ubuntu0.18.04.1) ...\n",
            "Setting up r-cran-rstudioapi (0.11-1cran1ppabionic0) ...\n",
            "Setting up libnvidia-compute-440:amd64 (440.59-0ubuntu0.18.04.1) ...\n",
            "Setting up libglapi-mesa:amd64 (19.2.8-0ubuntu0~18.04.2) ...\n",
            "Setting up libxml2:amd64 (2.9.4+dfsg1-6.1ubuntu1.3) ...\n",
            "Setting up libdrm-common (2.4.99-1ubuntu1~18.04.2) ...\n",
            "Setting up libxml2-dev:amd64 (2.9.4+dfsg1-6.1ubuntu1.3) ...\n",
            "Setting up nvidia-utils-440 (440.59-0ubuntu0.18.04.1) ...\n",
            "Setting up r-cran-jsonlite (1.6.1-1cran1ppabionic0) ...\n",
            "Setting up nvidia-kernel-common-440 (440.59-0ubuntu0.18.04.1) ...\n",
            "Setting up libnvidia-cfg1-440:amd64 (440.59-0ubuntu0.18.04.1) ...\n",
            "Setting up libcublas10 (10.2.2.89-1) ...\n",
            "Setting up qt5-qmake:amd64 (5.9.5+dfsg-0ubuntu2.5) ...\n",
            "Setting up libcublas-dev (10.2.2.89-1) ...\n",
            "Setting up r-cran-dt (0.12-1cran1ppabionic0) ...\n",
            "Setting up libqt5xml5:amd64 (5.9.5+dfsg-0ubuntu2.5) ...\n",
            "Setting up libqt5sql5:amd64 (5.9.5+dfsg-0ubuntu2.5) ...\n",
            "Setting up libnvidia-decode-440:amd64 (440.59-0ubuntu0.18.04.1) ...\n",
            "Setting up libllvm9:amd64 (1:9-2~ubuntu18.04.2) ...\n",
            "Setting up nvidia-compute-utils-440 (440.59-0ubuntu0.18.04.1) ...\n",
            "Setting up r-cran-mime (0.9-1cran1ppabionic0) ...\n",
            "Setting up libnvidia-encode-440:amd64 (440.59-0ubuntu0.18.04.1) ...\n",
            "Setting up r-cran-digest (0.6.24-1cran1ppabionic0) ...\n",
            "Setting up libexif12:amd64 (0.6.21-4ubuntu0.1) ...\n",
            "Setting up libwayland-cursor0:amd64 (1.16.0-1ubuntu1.1~18.04.3) ...\n",
            "Setting up nvidia-kernel-source-440 (440.59-0ubuntu0.18.04.1) ...\n",
            "Setting up libqt5concurrent5:amd64 (5.9.5+dfsg-0ubuntu2.5) ...\n",
            "Setting up xserver-xorg-video-nvidia-440 (440.59-0ubuntu0.18.04.1) ...\n",
            "Setting up libwayland-egl1:amd64 (1.16.0-1ubuntu1.1~18.04.3) ...\n",
            "Setting up libnvidia-gl-440:amd64 (440.59-0ubuntu0.18.04.1) ...\n",
            "Setting up libwayland-server0:amd64 (1.16.0-1ubuntu1.1~18.04.3) ...\n",
            "Setting up libwayland-bin (1.16.0-1ubuntu1.1~18.04.3) ...\n",
            "Setting up qtbase5-dev-tools (5.9.5+dfsg-0ubuntu2.5) ...\n",
            "Setting up nvidia-dkms-440 (440.59-0ubuntu0.18.04.1) ...\n",
            "Loading new nvidia-440.59 DKMS files...\n",
            "It is likely that 4.14.137+ belongs to a chroot's host\n",
            "Building for 4.15.0-76-generic\n",
            "Building for architecture x86_64\n",
            "Building initial module for 4.15.0-76-generic\n",
            "Done.\n",
            "\n",
            "nvidia:\n",
            "Running module version sanity check.\n",
            " - Original module\n",
            "   - No original module exists within this kernel\n",
            " - Installation\n",
            "   - Installing to /lib/modules/4.15.0-76-generic/updates/dkms/\n",
            "\n",
            "nvidia-modeset.ko:\n",
            "Running module version sanity check.\n",
            " - Original module\n",
            "   - No original module exists within this kernel\n",
            " - Installation\n",
            "   - Installing to /lib/modules/4.15.0-76-generic/updates/dkms/\n",
            "\n",
            "nvidia-drm.ko:\n",
            "Running module version sanity check.\n",
            " - Original module\n",
            "   - No original module exists within this kernel\n",
            " - Installation\n",
            "   - Installing to /lib/modules/4.15.0-76-generic/updates/dkms/\n",
            "\n",
            "nvidia-uvm.ko:\n",
            "Running module version sanity check.\n",
            " - Original module\n",
            "   - No original module exists within this kernel\n",
            " - Installation\n",
            "   - Installing to /lib/modules/4.15.0-76-generic/updates/dkms/\n",
            "\n",
            "depmod...\n",
            "\n",
            "DKMS: install completed.\n",
            "Setting up libdrm2:amd64 (2.4.99-1ubuntu1~18.04.2) ...\n",
            "Setting up libdrm-intel1:amd64 (2.4.99-1ubuntu1~18.04.2) ...\n",
            "Setting up libexif-dev:amd64 (0.6.21-4ubuntu0.1) ...\n",
            "Setting up libwayland-egl1-mesa:amd64 (19.2.8-0ubuntu0~18.04.2) ...\n",
            "Setting up libnvidia-ifr1-440:amd64 (440.59-0ubuntu0.18.04.1) ...\n",
            "Setting up libdrm-radeon1:amd64 (2.4.99-1ubuntu1~18.04.2) ...\n",
            "Setting up libdrm-nouveau2:amd64 (2.4.99-1ubuntu1~18.04.2) ...\n",
            "Setting up libwayland-dev:amd64 (1.16.0-1ubuntu1.1~18.04.3) ...\n",
            "Setting up libdrm-amdgpu1:amd64 (2.4.99-1ubuntu1~18.04.2) ...\n",
            "Setting up libdrm-dev:amd64 (2.4.99-1ubuntu1~18.04.2) ...\n",
            "Setting up libgbm1:amd64 (19.2.8-0ubuntu0~18.04.2) ...\n",
            "Setting up libgl1-mesa-dri:amd64 (19.2.8-0ubuntu0~18.04.2) ...\n",
            "Setting up libqt5gui5:amd64 (5.9.5+dfsg-0ubuntu2.5) ...\n",
            "Setting up nvidia-driver-440 (440.59-0ubuntu0.18.04.1) ...\n",
            "Setting up libegl-mesa0:amd64 (19.2.8-0ubuntu0~18.04.2) ...\n",
            "Setting up libglx-mesa0:amd64 (19.2.8-0ubuntu0~18.04.2) ...\n",
            "Setting up libqt5widgets5:amd64 (5.9.5+dfsg-0ubuntu2.5) ...\n",
            "Setting up mesa-common-dev:amd64 (19.2.8-0ubuntu0~18.04.2) ...\n",
            "Setting up libqt5printsupport5:amd64 (5.9.5+dfsg-0ubuntu2.5) ...\n",
            "Setting up libgl1-mesa-dev:amd64 (19.2.8-0ubuntu0~18.04.2) ...\n",
            "Setting up libegl1-mesa-dev:amd64 (19.2.8-0ubuntu0~18.04.2) ...\n",
            "Setting up libgles2-mesa-dev:amd64 (19.2.8-0ubuntu0~18.04.2) ...\n",
            "Setting up qtbase5-dev:amd64 (5.9.5+dfsg-0ubuntu2.5) ...\n",
            "Setting up qt5-default:amd64 (5.9.5+dfsg-0ubuntu2.5) ...\n",
            "Processing triggers for man-db (2.8.3-2ubuntu0.1) ...\n",
            "Processing triggers for mime-support (3.60ubuntu1) ...\n",
            "Processing triggers for libc-bin (2.27-3ubuntu1) ...\n",
            "/sbin/ldconfig.real: /usr/local/lib/python3.6/dist-packages/ideep4py/lib/libmkldnn.so.0 is not a symbolic link\n",
            "\n",
            "Processing triggers for systemd (237-3ubuntu10.38) ...\n"
          ],
          "name": "stdout"
        }
      ]
    },
    {
      "cell_type": "code",
      "metadata": {
        "id": "4Zr0NbJh5sUi",
        "colab_type": "code",
        "colab": {
          "base_uri": "https://localhost:8080/",
          "height": 191
        },
        "outputId": "229922a4-e1e6-450e-df59-f38ff2ab1e80"
      },
      "source": [
        "!apt install gdal-bin python-gdal python3-gdal ## This si the new method."
      ],
      "execution_count": 10,
      "outputs": [
        {
          "output_type": "stream",
          "text": [
            "Reading package lists... Done\n",
            "Building dependency tree       \n",
            "Reading state information... Done\n",
            "gdal-bin is already the newest version (2.2.3+dfsg-2).\n",
            "python-gdal is already the newest version (2.2.3+dfsg-2).\n",
            "python3-gdal is already the newest version (2.2.3+dfsg-2).\n",
            "The following package was automatically installed and is no longer required:\n",
            "  libnvidia-common-430\n",
            "Use 'apt autoremove' to remove it.\n",
            "0 upgraded, 0 newly installed, 0 to remove and 4 not upgraded.\n"
          ],
          "name": "stdout"
        }
      ]
    },
    {
      "cell_type": "code",
      "metadata": {
        "id": "JMnxFTN05ARS",
        "colab_type": "code",
        "colab": {}
      },
      "source": [
        "# Step 5\n",
        "import gdal ## fingers crossed!"
      ],
      "execution_count": 0,
      "outputs": []
    },
    {
      "cell_type": "markdown",
      "metadata": {
        "id": "98_TIEcM53P1",
        "colab_type": "text"
      },
      "source": [
        "# Now let's load some data."
      ]
    },
    {
      "cell_type": "code",
      "metadata": {
        "id": "Lht36qCH5AOz",
        "colab_type": "code",
        "colab": {
          "base_uri": "https://localhost:8080/",
          "height": 35
        },
        "outputId": "e1fb6923-087b-45ff-8d8b-0b1e05f765ab"
      },
      "source": [
        "# List the current files - it will return datalab\n",
        "!ls"
      ],
      "execution_count": 12,
      "outputs": [
        {
          "output_type": "stream",
          "text": [
            "sample_data\n"
          ],
          "name": "stdout"
        }
      ]
    },
    {
      "cell_type": "code",
      "metadata": {
        "id": "PTZ6ghDB5AMt",
        "colab_type": "code",
        "colab": {
          "base_uri": "https://localhost:8080/",
          "height": 87
        },
        "outputId": "5892515e-7208-45cc-be6b-2db9ef24e956"
      },
      "source": [
        "# clone their github geospatial programming course\n",
        "\n",
        "! git clone --recursive https://github.com/acgeospatial/Geospatial_Course_Example/\n",
        "\n",
        "\"\"\"Learned something new today.  Didn't know I could clone a github directory from Colab\"\"\""
      ],
      "execution_count": 15,
      "outputs": [
        {
          "output_type": "stream",
          "text": [
            "Cloning into 'Geospatial_Course_Example'...\n",
            "remote: Enumerating objects: 20, done.\u001b[K\n",
            "remote: Total 20 (delta 0), reused 0 (delta 0), pack-reused 20\u001b[K\n",
            "Unpacking objects: 100% (20/20), done.\n"
          ],
          "name": "stdout"
        }
      ]
    },
    {
      "cell_type": "code",
      "metadata": {
        "id": "gPxDAgYU5AKg",
        "colab_type": "code",
        "colab": {
          "base_uri": "https://localhost:8080/",
          "height": 35
        },
        "outputId": "5a5ec64a-90b7-43ef-b27f-b9833b7f5026"
      },
      "source": [
        "# check to see if it's installed\n",
        "!ls # should return 2 folders"
      ],
      "execution_count": 16,
      "outputs": [
        {
          "output_type": "stream",
          "text": [
            "Geospatial_Course_Example  sample_data\n"
          ],
          "name": "stdout"
        }
      ]
    },
    {
      "cell_type": "code",
      "metadata": {
        "id": "mpQP34iY6m9g",
        "colab_type": "code",
        "colab": {
          "base_uri": "https://localhost:8080/",
          "height": 35
        },
        "outputId": "81f0bce5-0c46-468e-9030-0281f9187715"
      },
      "source": [
        "# access the data\n",
        "cd Geospatial_Course_Example"
      ],
      "execution_count": 17,
      "outputs": [
        {
          "output_type": "stream",
          "text": [
            "/content/Geospatial_Course_Example\n"
          ],
          "name": "stdout"
        }
      ]
    },
    {
      "cell_type": "code",
      "metadata": {
        "id": "YBmudpa_6pDk",
        "colab_type": "code",
        "colab": {
          "base_uri": "https://localhost:8080/",
          "height": 52
        },
        "outputId": "4d6a3e59-9d42-4c5d-893e-5e98d7c804ff"
      },
      "source": [
        "# list the files in this folder\n",
        "!ls # should return 4 files one of which is a .jp2 image"
      ],
      "execution_count": 18,
      "outputs": [
        {
          "output_type": "stream",
          "text": [
            "L2A_T30UXB_20170102T111442_TCI_60m_boundry.geojson  Raster_boundary.ipynb\n",
            "L2A_T30UXB_20170102T111442_TCI_60m.jp2\t\t    README.md\n"
          ],
          "name": "stdout"
        }
      ]
    },
    {
      "cell_type": "markdown",
      "metadata": {
        "id": "AYZ57I6-6tb6",
        "colab_type": "text"
      },
      "source": [
        "Now just access the data like you would with any other piece of code.  For example if you want to display one band of the image with a 'hot' color map, and a color bar then run the code below."
      ]
    },
    {
      "cell_type": "code",
      "metadata": {
        "id": "HNCxBehY6zQi",
        "colab_type": "code",
        "colab": {
          "base_uri": "https://localhost:8080/",
          "height": 35
        },
        "outputId": "6005b98b-67e5-4c68-a3e3-bb2a78460dc8"
      },
      "source": [
        "import matplotlib.pyplot as plt\n",
        "raster_ds = gdal.Open(\"L2A_T30UXB_20170102T111442_TCI_60m.jp2\", gdal.GA_ReadOnly)\n",
        "image_gdal = raster_ds.GetRasterBand(1).ReadAsArray()\n",
        "print(image_gdal.shape) # if you want to see it as a np array"
      ],
      "execution_count": 20,
      "outputs": [
        {
          "output_type": "stream",
          "text": [
            "(1830, 1830)\n"
          ],
          "name": "stdout"
        }
      ]
    },
    {
      "cell_type": "code",
      "metadata": {
        "id": "LC1rFP3w7dM3",
        "colab_type": "code",
        "colab": {
          "base_uri": "https://localhost:8080/",
          "height": 269
        },
        "outputId": "6a097658-43c0-442d-b54e-28d98e0e45c3"
      },
      "source": [
        "plt.imshow(image_gdal, cmap = \"hot\", interpolation='nearest', aspect='auto')\n",
        "plt.colorbar()\n",
        "plt.show()"
      ],
      "execution_count": 21,
      "outputs": [
        {
          "output_type": "display_data",
          "data": {
            "image/png": "[encoded data removed]",
            "text/plain": [
              "<Figure size 432x288 with 2 Axes>"
            ]
          },
          "metadata": {
            "tags": []
          }
        }
      ]
    },
    {
      "cell_type": "code",
      "metadata": {
        "id": "zZuYxUH07qA2",
        "colab_type": "code",
        "colab": {}
      },
      "source": [
        "# Way cool!"
      ],
      "execution_count": 0,
      "outputs": []
    }
  ]
}